{
 "cells": [
  {
   "cell_type": "markdown",
   "metadata": {},
   "source": [
    "# WeatherPy\n",
    "----\n",
    "\n",
    "#### Note\n",
    "* Instructions have been included for each segment. You do not have to follow them exactly, but they are included to help you think through the steps."
   ]
  },
  {
   "cell_type": "code",
   "execution_count": 14,
   "metadata": {
    "scrolled": true
   },
   "outputs": [],
   "source": [
    "# Dependencies and Setup - - - - -  - - - - - - - - - - - 3/13/2020 - Randy Dettmer\n",
    "import matplotlib.pyplot as plt\n",
    "import openweathermapy as om\n",
    "import pandas as pd\n",
    "import numpy as np\n",
    "import requests\n",
    "import json\n",
    "import time\n",
    "from scipy.stats import linregress\n",
    "import scipy.stats as st\n",
    "\n",
    "import os\n",
    "import csv\n",
    "\n",
    "# Import API key\n",
    "from api_keys import weather_api_key\n",
    "\n",
    "# Incorporated citipy to determine city based on latitude and longitude\n",
    "from citipy import citipy\n",
    "\n",
    "# Range of latitudes and longitudes\n",
    "lat_range = (-90, 90)\n",
    "lng_range = (-180, 180)"
   ]
  },
  {
   "cell_type": "markdown",
   "metadata": {},
   "source": [
    "## Generate Cities List"
   ]
  },
  {
   "cell_type": "code",
   "execution_count": 15,
   "metadata": {
    "scrolled": true
   },
   "outputs": [
    {
     "data": {
      "text/plain": [
       "633"
      ]
     },
     "execution_count": 15,
     "metadata": {},
     "output_type": "execute_result"
    }
   ],
   "source": [
    "# List for holding lat_lngs and cities 3/13/2019\n",
    "lat_lngs = []\n",
    "cities = []\n",
    "\n",
    "# Create a set of random lat and lng combinations\n",
    "lats = np.random.uniform(low=-90.000, high=90.000, size=1500)\n",
    "lngs = np.random.uniform(low=-180.000, high=180.000, size=1500)\n",
    "lat_lngs = zip(lats, lngs)\n",
    "\n",
    "# Identify nearest city for each lat, lng combination\n",
    "for lat_lng in lat_lngs:\n",
    "    city = citipy.nearest_city(lat_lng[0], lat_lng[1]).city_name\n",
    "    \n",
    "    # If the city is unique, then add it to a our cities list\n",
    "    if city not in cities:\n",
    "        cities.append(city)\n",
    "\n",
    "# Print the city count to confirm sufficient count\n",
    "len(cities)"
   ]
  },
  {
   "cell_type": "code",
   "execution_count": 20,
   "metadata": {},
   "outputs": [
    {
     "name": "stdout",
     "output_type": "stream",
     "text": [
      "['bluff', 'grand gaube', 'khatanga', 'tiznit', 'elko', 'albany', 'punta arenas', 'mataura', 'caravelas', 'hobart', 'porto walter', 'yucaipa', 'arman', 'mandali', 'chicama', 'ugoofaaru', 'taolanaro', 'ahumada', 'bako', 'bilibino', 'namatanai', 'tukrah', 'kadirli', 'kodiak', 'uusikaupunki', 'anchorage', 'bethel', 'gazanjyk', 'nome', 'san andres', 'saleaula', 'faanui', 'hithadhoo', 'airai', 'cabedelo', 'mackay', 'eureka', 'castro', 'chuy', 'busselton', 'port alfred', 'idenao', 'zdvinsk', 'henties bay', 'vaitupu', 'ponta do sol', 'tuatapere', 'kavaratti', 'novoagansk', 'puerto ayora', 'longyearbyen', 'dikson', 'general pico', 'pevek', 'mrirt', 'ushuaia', 'ancud', 'provideniya', 'hilo', 'barentu', 'porto novo', 'east london', 'alekseyevka', 'belawan', 'tulca', 'khani', 'cidreira', 'sistranda', 'yumen', 'rikitea', 'kapaa', 'lolua', 'chokurdakh', 'baracoa', 'haines junction', 'attawapiskat', 'cape town', 'kuzovatovo', 'madang', 'saint anthony', 'grand river south east', 'luderitz', 'praxedis guerrero', 'torbay', 'hermanus', 'norman wells', 'cobija', 'the valley', 'thompson', 'port elizabeth', 'codrington', 'tazmalt', 'chardara', 'fortuna', 'teknaf', 'belushya guba', 'alofi', 'ouadda', 'bitkine', 'butaritari', 'ryotsu', 'yenagoa', 'avarua', 'aasiaat', 'new norfolk', 'jamestown', 'atuona', 'poum', 'trindade', 'honiara', 'guerrero negro', 'samusu', 'verkhoyansk', 'kholtoson', 'lucea', 'cherskiy', 'tasiilaq', 'la palma', 'dunedin', 'carnarvon', 'marsabit', 'ashland', 'lerwick', 'san quintin', 'coxim', 'sipoo', 'tuktoyaktuk', 'salinopolis', 'gurskoye', 'castro-urdiales', 'bayan', 'upernavik', 'tura', 'burnie', 'vidalia', 'narsaq', 'krasne', 'bambous virieux', 'nanortalik', 'port macquarie', 'kuching', 'saskylakh', 'amderma', 'tiksi', 'sinkat', 'saint-philippe', 'doha', 'aksu', 'madingou', 'khasan', 'saldanha', 'coihaique', 'port lincoln', 'moctezuma', 'viedma', 'cap-aux-meules', 'monte alegre de minas', 'saleilua', 'ahipara', 'barpathar', 'mahebourg', 'roald', 'natalicio talavera', 'vestmannaeyjar', 'redlands', 'tomatlan', 'athabasca', 'ahuimanu', 'kalabagh', 'valdivia', 'turayf', 'vaini', 'iqaluit', 'susanville', 'hambantota', 'coulihaut', 'vila franca do campo', 'casas grandes', 'pavlovsk', 'den helder', 'vikhorevka', 'tauramena', 'piacabucu', 'muyezerskiy', 'farim', 'thinadhoo', 'kazuno', 'kaitangata', 'half moon bay', 'mujiayingzi', 'fairbanks', 'aden', 'santa catarina de tepehuanes', 'lorengau', 'phan thiet', 'bredasdorp', 'huangchuan', 'batagay', 'dhidhdhoo', 'brazzaville', 'diffa', 'waingapu', 'dakar', 'kota belud', 'skuodas', 'guadix', 'tabiauea', 'tanout', 'isangel', 'lompoc', 'saint-joseph', 'cooma', 'kushima', 'zhigansk', 'babanusah', 'tsihombe', 'oriximina', 'mogadishu', 'fredericksburg', 'turmalina', 'paris', 'asau', 'luau', 'okhotsk', 'outjo', 'yakeshi', 'nalut', 'pyshchug', 'sikonge', 'qaanaaq', 'goderich', 'jinchengjiang', 'kyritz', 'nouadhibou', 'san rafael del sur', 'sept-iles', 'beidao', 'taltal', 'baruun-urt', 'mossoro', 'fort saint john', 'kloulklubed', 'boyarka', 'riberalta', 'bandarbeyla', 'havoysund', 'katsuura', 'barentsburg', 'luganville', 'balkhash', 'severnyy', 'sur', 'abu zabad', 'kahului', 'maceio', 'srednekolymsk', 'necochea', 'fougamou', 'hofn', 'charleston', 'tautira', 'manjo', 'malabo', 'atambua', 'antofagasta', 'geraldton', 'gangotri', 'georgetown', 'tuy hoa', 'gunnedah', 'kisangani', 'hovd', 'ishlei', 'paracatu', 'lavrentiya', 'khuzdar', 'tabatinga', 'naze', 'tupik', 'wanaka', 'pangnirtung', 'basco', 'watertown', 'clyde river', 'williamsport', 'hami', 'san juan', 'beringovskiy', 'canar', 'kidal', 'salalah', 'sai buri', 'kaoma', 'buta', 'tanda', 'brigantine', 'stornoway', 'ikom', 'la ronge', 'buraydah', 'severo-kurilsk', 'taoudenni', 'alberton', 'nikolskoye', 'carahue', 'jawhar', 'olafsvik', 'ambodifototra', 'felipe carrillo puerto', 'oranjemund', 'pathum thani', 'lebu', 'port moresby', 'maroua', 'illoqqortoormiut', 'santona', 'havre', 'mildura', 'abu dhabi', 'bullhead city', 'el llano', 'kruisfontein', 'corsicana', 'anadyr', 'ola', 'miri', 'mana', 'naryan-mar', 'halalo', 'smidovich', 'acuna', 'vlakhoyiannion', 'ust-kamchatsk', 'gaozhou', 'santa fe', 'saint-augustin', 'sungaipenuh', 'lasa', 'rancho palos verdes', 'aklavik', 'karratha', 'college', 'sulangan', 'shumskiy', 'yumaguzino', 'mazatlan', 'brae', 'rio grande', 'bargal', 'beyneu', 'yellowknife', 'barrow', 'linguere', 'makakilo city', 'kudat', 'sentyabrskiy', 'chatsu', 'esperance', 'ust-maya', 'xining', 'tucupita', 'nam tha', 'zhigalovo', 'rolandia', 'ximei', 'lagoa', 'coquimbo', 'mpongwe', 'pisco', 'price', 'kavieng', 'husavik', 'candido mendes', 'puerto quijarro', 'laguna', 'zyryanka', 'sitka', 'erzin', 'gondanglegi', 'leshukonskoye', 'san jeronimo', 'formoso do araguaia', 'lykhivka', 'floro', 'tilichiki', 'ilulissat', 'trincomalee', 'kuito', 'qaqortoq', 'bodden town', 'mozelos', 'ossora', 'tommot', 'san rafael', 'sabha', 'suluq', 'ribeira grande', 'ambositra', 'arcachon', 'matir', 'maunabo', 'souillac', 'utiroa', 'aripuana', 'brownwood', 'mar del plata', 'midland', 'arraial do cabo', 'mys shmidta', 'cabo san lucas', 'kinchil', 'juneau', 'suslovo', 'puerto cabezas', 'carhuaz', 'rudiskes', 'yulara', 'sibu', 'coahuayana', 'yellandu', 'spasskoye', 'sutysky', 'menongue', 'tumannyy', 'biograd na moru', 'marcona', 'kroderen', 'gumdag', 'lodhran', 'san juan evangelista', 'riyadh', 'bontang', 'tabas', 'nhulunbuy', 'tiarei', 'yazman', 'elizabeth city', 'victoria', 'ilo', 'maine-soroa', 'vardo', 'vao', 'coria', 'impfondo', 'buffalo', 'lexington', 'talladega', 'atyrau', 'rognan', 'basoko', 'rockhampton', 'kamennogorsk', 'kerrobert', 'cockburn harbour', 'moyamba', 'vanino', 'sao joao da barra', 'ulladulla', 'port hedland', 'overyata', 'itoman', 'lourdes', 'halvad', 'broome', 'cassilandia', 'adrar', 'anshun', 'krasnovishersk', 'wahiawa', 'karpogory', 'yingkou', 'jamnah', 'tual', 'palmer', 'los llanos de aridane', 'wagga wagga', 'ipixuna', 'chitral', 'jian', 'cabinda', 'magadan', 'padang', 'coldwater', 'robertsport', 'tromso', 'port augusta', 'toliary', 'hermon', 'gondar', 'hobyo', 'aykhal', 'ismailia', 'lima', 'hasaki', 'te anau', 'port hawkesbury', 'bathsheba', 'puerto madero', 'port blair', 'ulaangom', 'naron', 'omboue', 'potiskum', 'miandoab', 'emba', 'ariquemes', 'bafoulabe', 'san patricio', 'jizan', 'pangody', 'pacific grove', 'chern', 'denpasar', 'matara', 'almaznyy', 'puksoozero', 'zaltan', 'alyangula', 'peniche', 'nokha', 'ponta delgada', 'bedele', 'kabare', 'okakarara', 'kapit', 'methoni', 'aswan', 'preobrazheniye', 'andria', 'nioro', 'yining', 'bartlesville', 'trat', 'opuwo', 'burica', 'malwan', 'marsa matruh', 'aberdare', 'broken hill', 'manoel urbano', 'lata', 'cedar city', 'katobu', 'lufilufi', 'bengkulu', 'qasigiannguit', 'jiuquan', 'zhanatas', 'caranavi', 'talcahuano', 'whitehaven', 'chapais', 'macherla', 'bor', 'nsanje', 'redding', 'talnakh', 'grand centre', 'yaan', 'kolda', 'zhezkazgan', 'dafeng', 'kushiro', 'gyorszemere', 'iralaya', 'amapa', 'pangai', 'buritis', 'xai-xai', 'jalalpur', 'gizo', 'ijaki', 'inhambane', 'gamba', 'bid', 'ambilobe', 'paciran', 'nishihara', 'dipolog', 'kyra', 'ko samui', 'tres arroyos', 'leningradskiy', 'maniitsoq', 'ostrovnoy', 'daura', 'ambunti', 'cantaura', 'constitucion', 'barawe', 'karaul', 'manaus', 'nizhneyansk', 'kroonstad', 'sibolga', 'qianan', 'mokhotlong', 'petropavlovsk-kamchatskiy', 'tezu', 'san ramon', 'hervey bay', 'shuangcheng', 'mayumba', 'siocon', 'wucheng', 'sharjah', 'dakoro', 'lao cai', 'vila', 'ukiah', 'saint george', 'chirongui', 'gambela', 'babushkin', 'yichun', 'bashtanka', 'san policarpo', 'popondetta', 'timra', 'meulaboh', 'yongan', 'sioux lookout', 'trairi', 'seydi', 'samarkand', 'byron bay', 'bonavista', 'enid', 'kindu', 'praya', 'ulagan', 'culpeper', 'yar-sale']\n"
     ]
    }
   ],
   "source": [
    "print(cities)"
   ]
  },
  {
   "cell_type": "markdown",
   "metadata": {},
   "source": [
    "### Perform API Calls\n",
    "* Perform a weather check on each city using a series of successive API calls.\n",
    "* Include a print log of each city as it'sbeing processed (with the city number and city name).\n"
   ]
  },
  {
   "cell_type": "code",
   "execution_count": 16,
   "metadata": {},
   "outputs": [],
   "source": [
    "# Create settings dictionary with information we're interested in - set temperature to fahrenheit - 3/13/2019\n",
    "settings = {\"units\": \"imperial\", \"appid\": weather_api_key}\n",
    "\n",
    "# Initialize data frame to store data from API calls\n",
    "wdata_df =pd.DataFrame(columns = [\"City\", \"Country\", \"Lat\", \"Lng\",\n",
    "                              \"Date\", \"Max Temp\", \"Humidity\",\n",
    "                              \"Cloudiness\",\"Wind Speed\"])"
   ]
  },
  {
   "cell_type": "code",
   "execution_count": 31,
   "metadata": {
    "scrolled": false
   },
   "outputs": [
    {
     "name": "stdout",
     "output_type": "stream",
     "text": [
      "Beginning Data Retrieval\n",
      "........................\n",
      "Processing Record 1 of Set 0 | bluff\n",
      "module 'requests' has no attribute 'get_current'\n",
      "Processing Record 2 of Set 0 | grand gaube\n",
      "module 'requests' has no attribute 'get_current'\n",
      "Processing Record 3 of Set 0 | khatanga\n",
      "module 'requests' has no attribute 'get_current'\n",
      "Processing Record 4 of Set 0 | tiznit\n",
      "module 'requests' has no attribute 'get_current'\n",
      "Processing Record 5 of Set 0 | elko\n",
      "module 'requests' has no attribute 'get_current'\n",
      "Processing Record 6 of Set 0 | albany\n",
      "module 'requests' has no attribute 'get_current'\n",
      "Processing Record 7 of Set 0 | punta arenas\n",
      "module 'requests' has no attribute 'get_current'\n",
      "Processing Record 8 of Set 0 | mataura\n",
      "module 'requests' has no attribute 'get_current'\n",
      "Processing Record 9 of Set 0 | caravelas\n",
      "module 'requests' has no attribute 'get_current'\n",
      "Processing Record 10 of Set 0 | hobart\n",
      "module 'requests' has no attribute 'get_current'\n",
      "Processing Record 11 of Set 0 | porto walter\n",
      "module 'requests' has no attribute 'get_current'\n",
      "Processing Record 12 of Set 0 | yucaipa\n",
      "module 'requests' has no attribute 'get_current'\n",
      "Processing Record 13 of Set 0 | arman\n",
      "module 'requests' has no attribute 'get_current'\n",
      "Processing Record 14 of Set 0 | mandali\n",
      "module 'requests' has no attribute 'get_current'\n",
      "Processing Record 15 of Set 0 | chicama\n",
      "module 'requests' has no attribute 'get_current'\n",
      "Processing Record 16 of Set 0 | ugoofaaru\n",
      "module 'requests' has no attribute 'get_current'\n",
      "Processing Record 17 of Set 0 | taolanaro\n",
      "module 'requests' has no attribute 'get_current'\n",
      "Processing Record 18 of Set 0 | ahumada\n",
      "module 'requests' has no attribute 'get_current'\n",
      "Processing Record 19 of Set 0 | bako\n",
      "module 'requests' has no attribute 'get_current'\n",
      "Processing Record 20 of Set 0 | bilibino\n",
      "module 'requests' has no attribute 'get_current'\n",
      "Processing Record 21 of Set 0 | namatanai\n",
      "module 'requests' has no attribute 'get_current'\n",
      "Processing Record 22 of Set 0 | tukrah\n",
      "module 'requests' has no attribute 'get_current'\n",
      "Processing Record 23 of Set 0 | kadirli\n",
      "module 'requests' has no attribute 'get_current'\n",
      "Processing Record 24 of Set 0 | kodiak\n",
      "module 'requests' has no attribute 'get_current'\n",
      "Processing Record 25 of Set 0 | uusikaupunki\n",
      "module 'requests' has no attribute 'get_current'\n",
      "Processing Record 26 of Set 0 | anchorage\n",
      "module 'requests' has no attribute 'get_current'\n",
      "Processing Record 27 of Set 0 | bethel\n",
      "module 'requests' has no attribute 'get_current'\n",
      "Processing Record 28 of Set 0 | gazanjyk\n",
      "module 'requests' has no attribute 'get_current'\n",
      "Processing Record 29 of Set 0 | nome\n",
      "module 'requests' has no attribute 'get_current'\n",
      "Processing Record 30 of Set 0 | san andres\n",
      "module 'requests' has no attribute 'get_current'\n",
      "Processing Record 31 of Set 0 | saleaula\n",
      "module 'requests' has no attribute 'get_current'\n",
      "Processing Record 32 of Set 0 | faanui\n",
      "module 'requests' has no attribute 'get_current'\n",
      "Processing Record 33 of Set 0 | hithadhoo\n",
      "module 'requests' has no attribute 'get_current'\n",
      "Processing Record 34 of Set 0 | airai\n",
      "module 'requests' has no attribute 'get_current'\n",
      "Processing Record 35 of Set 0 | cabedelo\n",
      "module 'requests' has no attribute 'get_current'\n",
      "Processing Record 36 of Set 0 | mackay\n",
      "module 'requests' has no attribute 'get_current'\n",
      "Processing Record 37 of Set 0 | eureka\n",
      "module 'requests' has no attribute 'get_current'\n",
      "Processing Record 38 of Set 0 | castro\n",
      "module 'requests' has no attribute 'get_current'\n",
      "Processing Record 39 of Set 0 | chuy\n",
      "module 'requests' has no attribute 'get_current'\n",
      "Processing Record 40 of Set 0 | busselton\n",
      "module 'requests' has no attribute 'get_current'\n",
      "Processing Record 41 of Set 0 | port alfred\n",
      "module 'requests' has no attribute 'get_current'\n",
      "Processing Record 42 of Set 0 | idenao\n",
      "module 'requests' has no attribute 'get_current'\n",
      "Processing Record 43 of Set 0 | zdvinsk\n",
      "module 'requests' has no attribute 'get_current'\n",
      "Processing Record 44 of Set 0 | henties bay\n",
      "module 'requests' has no attribute 'get_current'\n",
      "Processing Record 45 of Set 0 | vaitupu\n",
      "module 'requests' has no attribute 'get_current'\n",
      "Processing Record 46 of Set 0 | ponta do sol\n",
      "module 'requests' has no attribute 'get_current'\n",
      "Processing Record 47 of Set 0 | tuatapere\n",
      "module 'requests' has no attribute 'get_current'\n",
      "Processing Record 48 of Set 0 | kavaratti\n",
      "module 'requests' has no attribute 'get_current'\n",
      "Processing Record 49 of Set 0 | novoagansk\n",
      "module 'requests' has no attribute 'get_current'\n",
      "Processing Record 50 of Set 0 | puerto ayora\n",
      "module 'requests' has no attribute 'get_current'\n",
      "Processing Record 51 of Set 0 | longyearbyen\n",
      "module 'requests' has no attribute 'get_current'\n",
      "Processing Record 52 of Set 0 | dikson\n",
      "module 'requests' has no attribute 'get_current'\n",
      "Processing Record 53 of Set 0 | general pico\n",
      "module 'requests' has no attribute 'get_current'\n",
      "Processing Record 54 of Set 0 | pevek\n",
      "module 'requests' has no attribute 'get_current'\n"
     ]
    },
    {
     "ename": "KeyboardInterrupt",
     "evalue": "",
     "output_type": "error",
     "traceback": [
      "\u001b[1;31m---------------------------------------------------------------------------\u001b[0m",
      "\u001b[1;31mKeyboardInterrupt\u001b[0m                         Traceback (most recent call last)",
      "\u001b[1;32m<ipython-input-31-a818961621ee>\u001b[0m in \u001b[0;36m<module>\u001b[1;34m\u001b[0m\n\u001b[0;32m     42\u001b[0m         \u001b[0mapi_cnt\u001b[0m \u001b[1;33m=\u001b[0m \u001b[1;36m1\u001b[0m\u001b[1;33m\u001b[0m\u001b[1;33m\u001b[0m\u001b[0m\n\u001b[0;32m     43\u001b[0m         \u001b[0mgroup\u001b[0m \u001b[1;33m=\u001b[0m \u001b[0mgroup\u001b[0m\u001b[1;33m+\u001b[0m\u001b[1;36m1\u001b[0m\u001b[1;33m\u001b[0m\u001b[1;33m\u001b[0m\u001b[0m\n\u001b[1;32m---> 44\u001b[1;33m         \u001b[0mtime\u001b[0m\u001b[1;33m.\u001b[0m\u001b[0msleep\u001b[0m\u001b[1;33m(\u001b[0m\u001b[1;36m60\u001b[0m\u001b[1;33m-\u001b[0m\u001b[1;33m(\u001b[0m\u001b[0mtime1\u001b[0m\u001b[1;33m-\u001b[0m\u001b[0mtime0\u001b[0m\u001b[1;33m)\u001b[0m\u001b[1;33m)\u001b[0m\u001b[1;33m\u001b[0m\u001b[1;33m\u001b[0m\u001b[0m\n\u001b[0m\u001b[0;32m     45\u001b[0m         \u001b[0mtime0\u001b[0m\u001b[1;33m=\u001b[0m\u001b[0mtime\u001b[0m\u001b[1;33m.\u001b[0m\u001b[0mtime\u001b[0m\u001b[1;33m(\u001b[0m\u001b[1;33m)\u001b[0m\u001b[1;33m\u001b[0m\u001b[1;33m\u001b[0m\u001b[0m\n\u001b[0;32m     46\u001b[0m \u001b[1;33m\u001b[0m\u001b[0m\n",
      "\u001b[1;31mKeyboardInterrupt\u001b[0m: "
     ]
    }
   ],
   "source": [
    "#test 3 3 3 - this works so don't delete this page until next cell is working - 3/13/2019 - needs tested -\n",
    "url = \"http://api.openweathermap.org/data/2.5/weather?q=\"\n",
    "\n",
    "api_cnt = 1 # counter to count the number of calls to API\n",
    "#no_data = 0 # error count to record how many cities the API responds back with no data.\n",
    "group = 0 # counter to count the number of call sets\n",
    "index = 0 # index for the data frame WeatherPy data frame\n",
    "\n",
    "#Get current time - do we need this????\n",
    "time0 = time.time()\n",
    "\n",
    "print(f'Beginning Data Retrieval')\n",
    "print(f'........................')\n",
    "\n",
    "for city in cities:\n",
    "    try:\n",
    "        #city1 = city.replace(\" \", \"%20\") # remove space in city name so the URL retrieved is not broken????? - needed?\n",
    "\n",
    "        print(f'Processing Record {api_cnt} of Set {group} | {city}')\n",
    "        #print(f'{url}{city}&units=imperial&APPID={weather_api_key}')\n",
    "        response = requests.get_current(city, **settings).json()\n",
    "        \n",
    "        results = response['info']\n",
    "        \n",
    "        wdata_df.loc[index, \"City\"] = info[0][\"name\"]\n",
    "        wdata_df.loc[index, \"Country\"] = info[0][\"sys.country\"]\n",
    "        wdata_df.loc[index, \"Lat\"] = info[0][\"coord.lat\"]\n",
    "        wdata_df.loc[index, \"Lng\"] = info[0][\"coord.lon\"]       \n",
    "        wdata_df.loc[index, \"Date\"] = info[0][\"dt\"]\n",
    "        wdata_df.loc[index, \"Max Temp\"] = info[0][\"main.temp_max\"]\n",
    "        wdata_df.loc[index, \"Humidity\"] = info[0][\"main.humidity\"]\n",
    "        wdata_df.loc[index, \"Cloudiness\"] = info[0][\"clouds.all\"]\n",
    "        wdata_df.loc[index, \"Wind Speed\"] = info[0][\"wind.speed\"]\n",
    "     \n",
    "        index = index +1\n",
    "    except Exception as err:\n",
    "        print(err)\n",
    "#       no_data = no_data+1\n",
    "    api_cnt = api_cnt +1\n",
    "    if api_cnt == 55: # loop to limit 55 API calls per minute. The OpenWeatherMap API limit is 60 calls/min\n",
    "        time1=time.time()\n",
    "        api_cnt = 1\n",
    "        group = group+1\n",
    "        time.sleep(60-(time1-time0))\n",
    "        time0=time.time()\n",
    "        \n",
    "print(\"Data Retreval Complete\")\n",
    "#print(f'Could not get data for {no_data} cities')"
   ]
  },
  {
   "cell_type": "code",
   "execution_count": 30,
   "metadata": {},
   "outputs": [
    {
     "data": {
      "text/html": [
       "<div>\n",
       "<style scoped>\n",
       "    .dataframe tbody tr th:only-of-type {\n",
       "        vertical-align: middle;\n",
       "    }\n",
       "\n",
       "    .dataframe tbody tr th {\n",
       "        vertical-align: top;\n",
       "    }\n",
       "\n",
       "    .dataframe thead th {\n",
       "        text-align: right;\n",
       "    }\n",
       "</style>\n",
       "<table border=\"1\" class=\"dataframe\">\n",
       "  <thead>\n",
       "    <tr style=\"text-align: right;\">\n",
       "      <th></th>\n",
       "      <th>City</th>\n",
       "    </tr>\n",
       "  </thead>\n",
       "  <tbody>\n",
       "    <tr>\n",
       "      <td>0</td>\n",
       "      <td>bluff</td>\n",
       "    </tr>\n",
       "    <tr>\n",
       "      <td>1</td>\n",
       "      <td>grand gaube</td>\n",
       "    </tr>\n",
       "    <tr>\n",
       "      <td>2</td>\n",
       "      <td>khatanga</td>\n",
       "    </tr>\n",
       "    <tr>\n",
       "      <td>3</td>\n",
       "      <td>tiznit</td>\n",
       "    </tr>\n",
       "    <tr>\n",
       "      <td>4</td>\n",
       "      <td>elko</td>\n",
       "    </tr>\n",
       "  </tbody>\n",
       "</table>\n",
       "</div>"
      ],
      "text/plain": [
       "          City\n",
       "0        bluff\n",
       "1  grand gaube\n",
       "2     khatanga\n",
       "3       tiznit\n",
       "4         elko"
      ]
     },
     "execution_count": 30,
     "metadata": {},
     "output_type": "execute_result"
    }
   ],
   "source": [
    "wwww = pd.DataFrame({\"City\": (cities)})\n",
    "wwww.head()"
   ]
  },
  {
   "cell_type": "code",
   "execution_count": null,
   "metadata": {},
   "outputs": [],
   "source": [
    "#test again 444444\n",
    "weather_data = []\n",
    "for index, row in wwww.interrows():\n",
    "    weather_data.append(om.get_current(row[0], **settings))"
   ]
  },
  {
   "cell_type": "code",
   "execution_count": 26,
   "metadata": {},
   "outputs": [
    {
     "data": {
      "text/html": [
       "<div>\n",
       "<style scoped>\n",
       "    .dataframe tbody tr th:only-of-type {\n",
       "        vertical-align: middle;\n",
       "    }\n",
       "\n",
       "    .dataframe tbody tr th {\n",
       "        vertical-align: top;\n",
       "    }\n",
       "\n",
       "    .dataframe thead th {\n",
       "        text-align: right;\n",
       "    }\n",
       "</style>\n",
       "<table border=\"1\" class=\"dataframe\">\n",
       "  <thead>\n",
       "    <tr style=\"text-align: right;\">\n",
       "      <th></th>\n",
       "      <th>City</th>\n",
       "      <th>Country</th>\n",
       "      <th>Lat</th>\n",
       "      <th>Lng</th>\n",
       "      <th>Date</th>\n",
       "      <th>Max Temp</th>\n",
       "      <th>Humidity</th>\n",
       "      <th>Cloudiness</th>\n",
       "      <th>Wind Speed</th>\n",
       "    </tr>\n",
       "  </thead>\n",
       "  <tbody>\n",
       "  </tbody>\n",
       "</table>\n",
       "</div>"
      ],
      "text/plain": [
       "Empty DataFrame\n",
       "Columns: [City, Country, Lat, Lng, Date, Max Temp, Humidity, Cloudiness, Wind Speed]\n",
       "Index: []"
      ]
     },
     "execution_count": 26,
     "metadata": {},
     "output_type": "execute_result"
    }
   ],
   "source": [
    "# test 3 3 3 - 3/13/2019\n",
    "wdata_df.head()"
   ]
  },
  {
   "cell_type": "code",
   "execution_count": 27,
   "metadata": {
    "scrolled": true
   },
   "outputs": [
    {
     "name": "stdout",
     "output_type": "stream",
     "text": [
      "<class 'pandas.core.frame.DataFrame'>\n",
      "Index: 0 entries\n",
      "Data columns (total 9 columns):\n",
      "City          0 non-null object\n",
      "Country       0 non-null object\n",
      "Lat           0 non-null object\n",
      "Lng           0 non-null object\n",
      "Date          0 non-null object\n",
      "Max Temp      0 non-null object\n",
      "Humidity      0 non-null object\n",
      "Cloudiness    0 non-null object\n",
      "Wind Speed    0 non-null object\n",
      "dtypes: object(9)\n",
      "memory usage: 0.0+ bytes\n"
     ]
    }
   ],
   "source": [
    "#display data types - 3/13/2019\n",
    "wdata_df.info()"
   ]
  },
  {
   "cell_type": "code",
   "execution_count": null,
   "metadata": {},
   "outputs": [],
   "source": [
    "#determine data type and convert where necessary to run regression - 3/13/2019\n",
    "#converet non-null objects to int or float\n",
    "\n",
    "wdata_df['Lat'] = wdata_df['Lat'].astype(float)\n",
    "wdata_df['Lng'] = wdata_df['Lng'].astype(float)\n",
    "wdata_df['Max Temp'] = wdata_df['Max Temp'].astype(float)\n",
    "wdata_df['Humidity'] = wdata_df['Humidity'].astype(int)\n",
    "wdata_df['Cloudiness'] = wdata_df['Cloudiness'].astype(int)\n",
    "wdata_df['Wind Speed'] = wdata_df['Wind Speed'].astype(float)\n",
    "\n",
    "#display data types to verify change\n",
    "wdata_df.info()"
   ]
  },
  {
   "cell_type": "markdown",
   "metadata": {},
   "source": [
    "### Convert Raw Data to DataFrame\n",
    "* Export the city data into a .csv.\n",
    "* Display the DataFrame"
   ]
  },
  {
   "cell_type": "code",
   "execution_count": null,
   "metadata": {},
   "outputs": [],
   "source": [
    "#test 3 3 3 - 3/13/2019\n",
    "#specify the file to write to file - - - -  - - - - - - - -\n",
    "\n",
    "# save to csv file\n",
    "wdata_df.to_csv(\"wdata.csv\", encoding='utf-8', index=False)\n",
    "\n",
    "# Display the city weather data frame\n",
    "wdata_df.head()"
   ]
  },
  {
   "cell_type": "markdown",
   "metadata": {},
   "source": [
    "### Plotting the Data\n",
    "* Use proper labeling of the plots using plot titles (including date of analysis) and axes labels.\n",
    "* Save the plotted figures as .pngs."
   ]
  },
  {
   "cell_type": "markdown",
   "metadata": {},
   "source": [
    "#### Latitude vs. Temperature Plot"
   ]
  },
  {
   "cell_type": "code",
   "execution_count": null,
   "metadata": {
    "scrolled": false
   },
   "outputs": [],
   "source": [
    "#plot lat vs max temp - 3/13/2019\n",
    "plt.scatter(wdata_df.iloc[:,2], wdata_df.iloc[:,5], marker = 'o', facecolors = 'yellow', edgecolors = 'black')\n",
    "plt.xlabel(\"Latitude\")\n",
    "plt.ylabel(\"Maximum Temperature\")\n",
    "plt.title(\"Latitude versus Maximum Temperature\")\n",
    "plt.grid()"
   ]
  },
  {
   "cell_type": "markdown",
   "metadata": {},
   "source": [
    "#### Latitude vs. Cloudiness Plot"
   ]
  },
  {
   "cell_type": "code",
   "execution_count": null,
   "metadata": {},
   "outputs": [],
   "source": [
    "#plot lat vs cloudiness - 3/13/2019\n",
    "plt.scatter(wdata_df.iloc[:,2], wdata_df.iloc[:,7], marker = 'o', facecolors = 'blue', edgecolors = 'black')\n",
    "plt.xlabel(\"Latitude\")\n",
    "plt.ylabel(\"Cloudiness\")\n",
    "plt.title(\"Latitude versus Cloudiness\")\n",
    "plt.grid()"
   ]
  },
  {
   "cell_type": "markdown",
   "metadata": {},
   "source": [
    "#### Latitude vs. Wind Speed Plot"
   ]
  },
  {
   "cell_type": "code",
   "execution_count": null,
   "metadata": {},
   "outputs": [],
   "source": [
    "#plot lat vs cloudiness - 3/13/2019\n",
    "plt.scatter(wdata_df.iloc[:,2], wdata_df.iloc[:,8], marker = 'o', facecolors = 'green', edgecolors = 'black')\n",
    "plt.xlabel(\"Latitude\")\n",
    "plt.ylabel(\"Wind Speed\")\n",
    "plt.title(\"Latitude versus Wind Speed\")\n",
    "plt.grid()"
   ]
  },
  {
   "cell_type": "markdown",
   "metadata": {},
   "source": [
    "## Linear Regression"
   ]
  },
  {
   "cell_type": "code",
   "execution_count": null,
   "metadata": {},
   "outputs": [],
   "source": [
    "# OPTIONAL: Create a function to create Linear Regression plots"
   ]
  },
  {
   "cell_type": "code",
   "execution_count": null,
   "metadata": {
    "scrolled": true
   },
   "outputs": [],
   "source": [
    "# Create Northern and Southern Hemisphere DataFrames - 3/13/2019\n",
    "# Note I included the equator (where lat = 0) as part of the southern hemisphere\n",
    "northern = wdata_df.loc[(wdata_df[\"Lat\"] > 0), :]\n",
    "nwdata_df = pd.DataFrame(northern)\n",
    "southern = wdata_df.loc[(wdata_df[\"Lat\"] <= 0), :]\n",
    "swdata_df = pd.DataFrame(southern)\n",
    "swdata_df.tail()"
   ]
  },
  {
   "cell_type": "markdown",
   "metadata": {},
   "source": [
    "####  Northern Hemisphere - Max Temp vs. Latitude Linear Regression"
   ]
  },
  {
   "cell_type": "code",
   "execution_count": null,
   "metadata": {},
   "outputs": [],
   "source": [
    "#plot northern hemisphere lat vs max temp - - - - 3/13/2019\n",
    "x_values = nwdata_df.iloc[:,2]\n",
    "y_values = nwdata_df.iloc[:,5]\n",
    "slope, intercept, r_value, p_value, std_err = st.linregress(x_values, y_values)\n",
    "\n",
    "regress_values = x_values * slope + intercept\n",
    "line_eq = \"y = \" + str(round(slope,2)) + \"x + \" + str(round(intercept,2))\n",
    "plt.scatter(x_values, y_values)\n",
    "plt.plot(x_values, regress_values, \"r-\")\n",
    "plt.annotate(line_eq, (0,0), fontsize=15, color=\"red\")\n",
    "\n",
    "plt.xlabel(\"Latitude\")\n",
    "plt.ylabel(\"Maximum Temperature in Degrees Fahrenheit\")\n",
    "plt.title(\"Northern Hemisphere Latitude versus Maximum Temperature\")\n",
    "print(f\"The r-squared is: {r_value}\")\n",
    "plt.grid()"
   ]
  },
  {
   "cell_type": "markdown",
   "metadata": {},
   "source": [
    "####  Southern Hemisphere - Max Temp vs. Latitude Linear Regression"
   ]
  },
  {
   "cell_type": "code",
   "execution_count": null,
   "metadata": {},
   "outputs": [],
   "source": [
    "#plot southern hemisphere lat vs max temp - - - - 3/13/2019\n",
    "x_values = swdata_df.iloc[:,2]\n",
    "y_values = swdata_df.iloc[:,5]\n",
    "slope, intercept, r_value, p_value, std_err = st.linregress(x_values, y_values)\n",
    "\n",
    "regress_values = x_values * slope + intercept\n",
    "line_eq = \"y = \" + str(round(slope,2)) + \"x + \" + str(round(intercept,2))\n",
    "plt.scatter(x_values, y_values)\n",
    "plt.plot(x_values, regress_values, \"r-\")\n",
    "plt.annotate(line_eq, (-30,55), fontsize=15, color=\"red\")\n",
    "\n",
    "plt.xlabel(\"Latitude\")\n",
    "plt.ylabel(\"Maximum Temperature in Degrees Fahrenheit\")\n",
    "plt.title(\"Southern Hemisphere Latitude versus Maximum Temperature\")\n",
    "print(f\"The r-squared is: {r_value}\")\n",
    "plt.grid()"
   ]
  },
  {
   "cell_type": "markdown",
   "metadata": {},
   "source": [
    "####  Northern Hemisphere - Humidity (%) vs. Latitude Linear Regression"
   ]
  },
  {
   "cell_type": "code",
   "execution_count": null,
   "metadata": {},
   "outputs": [],
   "source": [
    "#plot northern hemisphere lat vs humidity - - - - 3/13/2019\n",
    "x_values = nwdata_df.iloc[:,2]\n",
    "y_values = nwdata_df.iloc[:,6]\n",
    "slope, intercept, r_value, p_value, std_err = st.linregress(x_values, y_values)\n",
    "\n",
    "regress_values = x_values * slope + intercept\n",
    "line_eq = \"y = \" + str(round(slope,2)) + \"x + \" + str(round(intercept,2))\n",
    "plt.scatter(x_values, y_values)\n",
    "plt.plot(x_values, regress_values, \"r-\")\n",
    "plt.annotate(line_eq, (40,20), fontsize=15, color=\"red\")\n",
    "\n",
    "plt.xlabel(\"Latitude\")\n",
    "plt.ylabel(\"Humidity\")\n",
    "plt.title(\"Northern Hemisphere Latitude versus Humidity\")\n",
    "print(f\"The r-squared is: {r_value}\")\n",
    "plt.grid()"
   ]
  },
  {
   "cell_type": "markdown",
   "metadata": {},
   "source": [
    "####  Southern Hemisphere - Humidity (%) vs. Latitude Linear Regression"
   ]
  },
  {
   "cell_type": "code",
   "execution_count": null,
   "metadata": {},
   "outputs": [],
   "source": [
    "#plot southern hemisphere lat vs humidity - - - - 3/13/2019\n",
    "x_values = swdata_df.iloc[:,2]\n",
    "y_values = swdata_df.iloc[:,6]\n",
    "slope, intercept, r_value, p_value, std_err = st.linregress(x_values, y_values)\n",
    "\n",
    "regress_values = x_values * slope + intercept\n",
    "line_eq = \"y = \" + str(round(slope,2)) + \"x + \" + str(round(intercept,2))\n",
    "plt.scatter(x_values, y_values)\n",
    "plt.plot(x_values, regress_values, \"r-\")\n",
    "plt.annotate(line_eq, (-55,20), fontsize=15, color=\"red\")\n",
    "\n",
    "plt.xlabel(\"Latitude\")\n",
    "plt.ylabel(\"Humidity\")\n",
    "plt.title(\"Southern Hemisphere Latitude versus Humidity\")\n",
    "print(f\"The r-squared is: {r_value}\")\n",
    "plt.grid()"
   ]
  },
  {
   "cell_type": "markdown",
   "metadata": {},
   "source": [
    "####  Northern Hemisphere - Cloudiness (%) vs. Latitude Linear Regression"
   ]
  },
  {
   "cell_type": "code",
   "execution_count": null,
   "metadata": {},
   "outputs": [],
   "source": [
    "#plot northern hemisphere lat vs cloudiness - - - - 3/13/2019\n",
    "x_values = nwdata_df.iloc[:,2]\n",
    "y_values = nwdata_df.iloc[:,7]\n",
    "slope, intercept, r_value, p_value, std_err = st.linregress(x_values, y_values)\n",
    "\n",
    "regress_values = x_values * slope + intercept\n",
    "line_eq = \"y = \" + str(round(slope,2)) + \"x + \" + str(round(intercept,2))\n",
    "plt.scatter(x_values, y_values)\n",
    "plt.plot(x_values, regress_values, \"r-\")\n",
    "plt.annotate(line_eq, (45,30), fontsize=15, color=\"red\")\n",
    "\n",
    "plt.xlabel(\"Latitude\")\n",
    "plt.ylabel(\"Cloudiness\")\n",
    "plt.title(\"Northern Hemisphere Latitude versus Cloudiness\")\n",
    "print(f\"The r-squared is: {r_value}\")\n",
    "plt.grid()"
   ]
  },
  {
   "cell_type": "markdown",
   "metadata": {},
   "source": [
    "####  Southern Hemisphere - Cloudiness (%) vs. Latitude Linear Regression"
   ]
  },
  {
   "cell_type": "code",
   "execution_count": null,
   "metadata": {},
   "outputs": [],
   "source": [
    "#plot southern hemisphere lat vs humidity - - - - 3/13/2019\n",
    "x_values = swdata_df.iloc[:,2]\n",
    "y_values = swdata_df.iloc[:,7]\n",
    "slope, intercept, r_value, p_value, std_err = st.linregress(x_values, y_values)\n",
    "\n",
    "regress_values = x_values * slope + intercept\n",
    "line_eq = \"y = \" + str(round(slope,2)) + \"x + \" + str(round(intercept,2))\n",
    "plt.scatter(x_values, y_values)\n",
    "plt.plot(x_values, regress_values, \"r-\")\n",
    "plt.annotate(line_eq, (-57,13), fontsize=15, color=\"red\")\n",
    "\n",
    "plt.xlabel(\"Latitude\")\n",
    "plt.ylabel(\"Cloudiness\")\n",
    "plt.title(\"Southern Hemisphere Latitude versus Cloudiness\")\n",
    "print(f\"The r-squared is: {r_value}\")\n",
    "plt.grid()"
   ]
  },
  {
   "cell_type": "markdown",
   "metadata": {},
   "source": [
    "####  Northern Hemisphere - Wind Speed (mph) vs. Latitude Linear Regression"
   ]
  },
  {
   "cell_type": "code",
   "execution_count": null,
   "metadata": {},
   "outputs": [],
   "source": [
    "#plot northern hemisphere lat vs wind speed - - - - 3/13/2019\n",
    "x_values = nwdata_df.iloc[:,2]\n",
    "y_values = nwdata_df.iloc[:,8]\n",
    "slope, intercept, r_value, p_value, std_err = st.linregress(x_values, y_values)\n",
    "\n",
    "regress_values = x_values * slope + intercept\n",
    "line_eq = \"y = \" + str(round(slope,2)) + \"x + \" + str(round(intercept,2))\n",
    "plt.scatter(x_values, y_values)\n",
    "plt.plot(x_values, regress_values, \"r-\")\n",
    "plt.annotate(line_eq, (0,40), fontsize=15, color=\"red\")\n",
    "\n",
    "plt.xlabel(\"Latitude\")\n",
    "plt.ylabel(\"Wind Speed\")\n",
    "plt.title(\"Northern Hemisphere Latitude versus Wind Speed\")\n",
    "print(f\"The r-squared is: {r_value}\")\n",
    "plt.grid()"
   ]
  },
  {
   "cell_type": "markdown",
   "metadata": {},
   "source": [
    "####  Southern Hemisphere - Wind Speed (mph) vs. Latitude Linear Regression"
   ]
  },
  {
   "cell_type": "code",
   "execution_count": null,
   "metadata": {},
   "outputs": [],
   "source": [
    "#plot southern hemisphere lat vs wind speed - - - - 3/13/2019\n",
    "x_values = swdata_df.iloc[:,2]\n",
    "y_values = swdata_df.iloc[:,8]\n",
    "slope, intercept, r_value, p_value, std_err = st.linregress(x_values, y_values)\n",
    "\n",
    "regress_values = x_values * slope + intercept\n",
    "line_eq = \"y = \" + str(round(slope,2)) + \"x + \" + str(round(intercept,2))\n",
    "plt.scatter(x_values, y_values)\n",
    "plt.plot(x_values, regress_values, \"r-\")\n",
    "plt.annotate(line_eq, (-55,20), fontsize=15, color=\"red\")\n",
    "\n",
    "plt.xlabel(\"Latitude\")\n",
    "plt.ylabel(\"Wind Speed\")\n",
    "plt.title(\"Southern Hemisphere Latitude versus Wind Speed\")\n",
    "print(f\"The r-squared is: {r_value}\")\n",
    "plt.grid()"
   ]
  },
  {
   "cell_type": "code",
   "execution_count": null,
   "metadata": {},
   "outputs": [],
   "source": []
  }
 ],
 "metadata": {
  "anaconda-cloud": {},
  "kernel_info": {
   "name": "python3"
  },
  "kernelspec": {
   "display_name": "Python 3.7.4 64-bit ('base': conda)",
   "language": "python",
   "name": "python37464bitbasecondac6f1fed7da40427ba8d315f08c07b158"
  },
  "language_info": {
   "codemirror_mode": {
    "name": "ipython",
    "version": 3
   },
   "file_extension": ".py",
   "mimetype": "text/x-python",
   "name": "python",
   "nbconvert_exporter": "python",
   "pygments_lexer": "ipython3",
   "version": "3.7.4"
  },
  "latex_envs": {
   "LaTeX_envs_menu_present": true,
   "autoclose": false,
   "autocomplete": true,
   "bibliofile": "biblio.bib",
   "cite_by": "apalike",
   "current_citInitial": 1,
   "eqLabelWithNumbers": true,
   "eqNumInitial": 1,
   "hotkeys": {
    "equation": "Ctrl-E",
    "itemize": "Ctrl-I"
   },
   "labels_anchors": false,
   "latex_user_defs": false,
   "report_style_numbering": false,
   "user_envs_cfg": false
  },
  "nteract": {
   "version": "0.12.3"
  }
 },
 "nbformat": 4,
 "nbformat_minor": 2
}
