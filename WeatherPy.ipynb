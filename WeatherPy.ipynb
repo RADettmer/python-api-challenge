{
 "cells": [
  {
   "cell_type": "markdown",
   "metadata": {},
   "source": [
    "# WeatherPy\n",
    "----\n",
    "\n",
    "#### Note\n",
    "* Instructions have been included for each segment. You do not have to follow them exactly, but they are included to help you think through the steps."
   ]
  },
  {
   "cell_type": "code",
   "execution_count": 6,
   "metadata": {
    "scrolled": true
   },
   "outputs": [],
   "source": [
    "# Dependencies and Setup - - - - -  - - - - - - - - - - - 3/14/2020 - Randy Dettmer\n",
    "import matplotlib.pyplot as plt\n",
    "import openweathermapy as ow\n",
    "import pandas as pd\n",
    "import numpy as np\n",
    "import requests\n",
    "import json\n",
    "import time\n",
    "from scipy.stats import linregress\n",
    "import scipy.stats as st\n",
    "\n",
    "import os\n",
    "import csv\n",
    "\n",
    "# Import API key\n",
    "from api_keys import weather_api_key\n",
    "\n",
    "# Incorporated citipy to determine city based on latitude and longitude\n",
    "from citipy import citipy\n",
    "\n",
    "# Range of latitudes and longitudes\n",
    "lat_range = (-90, 90)\n",
    "lng_range = (-180, 180)"
   ]
  },
  {
   "cell_type": "markdown",
   "metadata": {},
   "source": [
    "## Generate Cities List"
   ]
  },
  {
   "cell_type": "code",
   "execution_count": 7,
   "metadata": {
    "scrolled": true
   },
   "outputs": [
    {
     "name": "stdout",
     "output_type": "stream",
     "text": [
      "621\n"
     ]
    }
   ],
   "source": [
    "# List for holding lat_lngs and cities\n",
    "lat_lngs = []\n",
    "cities = []\n",
    "\n",
    "# Other variables added to be collected in the data frame\n",
    "country_code = []\n",
    "country = []\n",
    "\n",
    "\n",
    "# Create a set of random lat and lng combinations\n",
    "lats = np.random.uniform(low=-90.000, high=90.000, size=1500)\n",
    "lngs = np.random.uniform(low=-180.000, high=180.000, size=1500)\n",
    "lat_lngs = zip(lats, lngs)\n",
    "\n",
    "# Identify nearest city for each lat, lng combination\n",
    "for lat_lng in lat_lngs:\n",
    "    city = citipy.nearest_city(lat_lng[0], lat_lng[1])\n",
    "    cityname = city.city_name\n",
    "    countryname = city.country_code\n",
    "    city_with_country = tuple([cityname.title(), countryname.upper()])\n",
    "    \n",
    "    \n",
    "    # If the city is unique, then add it to a our cities list\n",
    "    if city_with_country not in country_code:\n",
    "        country_code.append(city_with_country)\n",
    "        cities.append(city_with_country[0])\n",
    "        country.append(city_with_country[1])\n",
    "\n",
    "# Print the city count to confirm sufficient count\n",
    "totalcities = len(cities)\n",
    "print(totalcities)"
   ]
  },
  {
   "cell_type": "code",
   "execution_count": 8,
   "metadata": {
    "scrolled": true
   },
   "outputs": [
    {
     "data": {
      "text/html": [
       "<div>\n",
       "<style scoped>\n",
       "    .dataframe tbody tr th:only-of-type {\n",
       "        vertical-align: middle;\n",
       "    }\n",
       "\n",
       "    .dataframe tbody tr th {\n",
       "        vertical-align: top;\n",
       "    }\n",
       "\n",
       "    .dataframe thead th {\n",
       "        text-align: right;\n",
       "    }\n",
       "</style>\n",
       "<table border=\"1\" class=\"dataframe\">\n",
       "  <thead>\n",
       "    <tr style=\"text-align: right;\">\n",
       "      <th></th>\n",
       "      <th>City</th>\n",
       "      <th>Country</th>\n",
       "    </tr>\n",
       "  </thead>\n",
       "  <tbody>\n",
       "    <tr>\n",
       "      <td>0</td>\n",
       "      <td>Srednekolymsk</td>\n",
       "      <td>RU</td>\n",
       "    </tr>\n",
       "    <tr>\n",
       "      <td>1</td>\n",
       "      <td>Severnoye</td>\n",
       "      <td>RU</td>\n",
       "    </tr>\n",
       "    <tr>\n",
       "      <td>2</td>\n",
       "      <td>Port Alfred</td>\n",
       "      <td>ZA</td>\n",
       "    </tr>\n",
       "    <tr>\n",
       "      <td>3</td>\n",
       "      <td>Cape Town</td>\n",
       "      <td>ZA</td>\n",
       "    </tr>\n",
       "    <tr>\n",
       "      <td>4</td>\n",
       "      <td>Bud</td>\n",
       "      <td>NO</td>\n",
       "    </tr>\n",
       "  </tbody>\n",
       "</table>\n",
       "</div>"
      ],
      "text/plain": [
       "            City Country\n",
       "0  Srednekolymsk      RU\n",
       "1      Severnoye      RU\n",
       "2    Port Alfred      ZA\n",
       "3      Cape Town      ZA\n",
       "4            Bud      NO"
      ]
     },
     "execution_count": 8,
     "metadata": {},
     "output_type": "execute_result"
    }
   ],
   "source": [
    "#collect city, country, latitude and longitude into a data frame\n",
    "city_df = pd.DataFrame({\"City\": cities, \"Country\": country})\n",
    "city_df.head()"
   ]
  },
  {
   "cell_type": "code",
   "execution_count": 9,
   "metadata": {},
   "outputs": [
    {
     "data": {
      "text/html": [
       "<div>\n",
       "<style scoped>\n",
       "    .dataframe tbody tr th:only-of-type {\n",
       "        vertical-align: middle;\n",
       "    }\n",
       "\n",
       "    .dataframe tbody tr th {\n",
       "        vertical-align: top;\n",
       "    }\n",
       "\n",
       "    .dataframe thead th {\n",
       "        text-align: right;\n",
       "    }\n",
       "</style>\n",
       "<table border=\"1\" class=\"dataframe\">\n",
       "  <thead>\n",
       "    <tr style=\"text-align: right;\">\n",
       "      <th></th>\n",
       "      <th>City</th>\n",
       "      <th>Country</th>\n",
       "      <th>Latitude</th>\n",
       "      <th>Longitude</th>\n",
       "      <th>Max Temp(F)</th>\n",
       "      <th>Humidity(%)</th>\n",
       "      <th>Cloudiness(%)</th>\n",
       "      <th>Wind Speed(MPH)</th>\n",
       "      <th>Date</th>\n",
       "    </tr>\n",
       "  </thead>\n",
       "  <tbody>\n",
       "    <tr>\n",
       "      <td>0</td>\n",
       "      <td>Srednekolymsk</td>\n",
       "      <td>RU</td>\n",
       "      <td>NaN</td>\n",
       "      <td>NaN</td>\n",
       "      <td>NaN</td>\n",
       "      <td>NaN</td>\n",
       "      <td>NaN</td>\n",
       "      <td>NaN</td>\n",
       "      <td>NaN</td>\n",
       "    </tr>\n",
       "    <tr>\n",
       "      <td>1</td>\n",
       "      <td>Severnoye</td>\n",
       "      <td>RU</td>\n",
       "      <td>NaN</td>\n",
       "      <td>NaN</td>\n",
       "      <td>NaN</td>\n",
       "      <td>NaN</td>\n",
       "      <td>NaN</td>\n",
       "      <td>NaN</td>\n",
       "      <td>NaN</td>\n",
       "    </tr>\n",
       "    <tr>\n",
       "      <td>2</td>\n",
       "      <td>Port Alfred</td>\n",
       "      <td>ZA</td>\n",
       "      <td>NaN</td>\n",
       "      <td>NaN</td>\n",
       "      <td>NaN</td>\n",
       "      <td>NaN</td>\n",
       "      <td>NaN</td>\n",
       "      <td>NaN</td>\n",
       "      <td>NaN</td>\n",
       "    </tr>\n",
       "    <tr>\n",
       "      <td>3</td>\n",
       "      <td>Cape Town</td>\n",
       "      <td>ZA</td>\n",
       "      <td>NaN</td>\n",
       "      <td>NaN</td>\n",
       "      <td>NaN</td>\n",
       "      <td>NaN</td>\n",
       "      <td>NaN</td>\n",
       "      <td>NaN</td>\n",
       "      <td>NaN</td>\n",
       "    </tr>\n",
       "    <tr>\n",
       "      <td>4</td>\n",
       "      <td>Bud</td>\n",
       "      <td>NO</td>\n",
       "      <td>NaN</td>\n",
       "      <td>NaN</td>\n",
       "      <td>NaN</td>\n",
       "      <td>NaN</td>\n",
       "      <td>NaN</td>\n",
       "      <td>NaN</td>\n",
       "      <td>NaN</td>\n",
       "    </tr>\n",
       "  </tbody>\n",
       "</table>\n",
       "</div>"
      ],
      "text/plain": [
       "            City Country  Latitude  Longitude  Max Temp(F)  Humidity(%)  \\\n",
       "0  Srednekolymsk      RU       NaN        NaN          NaN          NaN   \n",
       "1      Severnoye      RU       NaN        NaN          NaN          NaN   \n",
       "2    Port Alfred      ZA       NaN        NaN          NaN          NaN   \n",
       "3      Cape Town      ZA       NaN        NaN          NaN          NaN   \n",
       "4            Bud      NO       NaN        NaN          NaN          NaN   \n",
       "\n",
       "   Cloudiness(%)  Wind Speed(MPH)  Date  \n",
       "0            NaN              NaN   NaN  \n",
       "1            NaN              NaN   NaN  \n",
       "2            NaN              NaN   NaN  \n",
       "3            NaN              NaN   NaN  \n",
       "4            NaN              NaN   NaN  "
      ]
     },
     "execution_count": 9,
     "metadata": {},
     "output_type": "execute_result"
    }
   ],
   "source": [
    "#add other columns to data frame with \"NaN\" values for easier clean up\n",
    "city_df[\"Latitude\"] = np.nan\n",
    "city_df[\"Longitude\"] = np.nan\n",
    "city_df[\"Max Temp(F)\"] = np.nan\n",
    "city_df[\"Humidity(%)\"] = np.nan\n",
    "city_df[\"Cloudiness(%)\"] = np.nan\n",
    "city_df[\"Wind Speed(MPH)\"] = np.nan\n",
    "city_df[\"Date\"] = np.nan\n",
    "city_df.head()"
   ]
  },
  {
   "cell_type": "markdown",
   "metadata": {},
   "source": [
    "### Perform API Calls\n",
    "* Perform a weather check on each city using a series of successive API calls.\n",
    "* Include a print log of each city as it'sbeing processed (with the city number and city name).\n"
   ]
  },
  {
   "cell_type": "code",
   "execution_count": 11,
   "metadata": {
    "scrolled": false
   },
   "outputs": [
    {
     "name": "stdout",
     "output_type": "stream",
     "text": [
      "Beginning Data Retrieval\n",
      "--------------------------------------------------\n",
      "Processing Record 1 of Set 1: Srednekolymsk\n",
      "Processing Record 2 of Set 1: Severnoye\n",
      "Processing Record 3 of Set 1: Port Alfred\n",
      "Processing Record 4 of Set 1: Cape Town\n",
      "Processing Record 5 of Set 1: Bud\n",
      "Processing Record 6 of Set 1: Nikolskoye\n",
      "Processing Record 7 of Set 1: Taga\n",
      "Processing Record 8 of Set 1: Moerai\n",
      "Processing Record 9 of Set 1: Constitucion\n",
      "Processing Record 10 of Set 1: Deputatskiy\n",
      "Processing Record 11 of Set 1: Campechuela\n",
      "Processing Record 12 of Set 1: Taoudenni\n",
      "Processing Record 13 of Set 1: Provideniya\n",
      "Processing Record 14 of Set 1: Kloulklubed\n",
      "Processing Record 15 of Set 1: Jabiru\n",
      "HTTP Error 404: Not Found\n",
      "City not found. Skipping..\n",
      "Processing Record 16 of Set 1: Punta Arenas\n",
      "Processing Record 17 of Set 1: Hami\n",
      "Processing Record 18 of Set 1: Zheleznodorozhnyy\n",
      "Processing Record 19 of Set 1: Vaini\n",
      "Processing Record 20 of Set 1: Ilulissat\n",
      "Processing Record 21 of Set 1: Kirensk\n",
      "Processing Record 22 of Set 1: Carbondale\n",
      "Processing Record 23 of Set 1: Marcona\n",
      "HTTP Error 404: Not Found\n",
      "City not found. Skipping..\n",
      "Processing Record 24 of Set 1: Atuona\n",
      "Processing Record 25 of Set 1: Taolanaro\n",
      "HTTP Error 404: Not Found\n",
      "City not found. Skipping..\n",
      "Processing Record 26 of Set 1: Talnakh\n",
      "Processing Record 27 of Set 1: Castro\n",
      "Processing Record 28 of Set 1: Kruisfontein\n",
      "Processing Record 29 of Set 1: Hermanus\n",
      "Processing Record 30 of Set 1: Bolungarvik\n",
      "HTTP Error 404: Not Found\n",
      "City not found. Skipping..\n",
      "Processing Record 31 of Set 1: Mys Shmidta\n",
      "HTTP Error 404: Not Found\n",
      "City not found. Skipping..\n",
      "Processing Record 32 of Set 1: Coihueco\n",
      "Processing Record 33 of Set 1: Hobart\n",
      "Processing Record 34 of Set 1: Khatanga\n",
      "Processing Record 35 of Set 1: Kitami\n",
      "Processing Record 36 of Set 1: Ulladulla\n",
      "Processing Record 37 of Set 1: Coahuayana\n",
      "Processing Record 38 of Set 1: Saskylakh\n",
      "Processing Record 39 of Set 1: Dikson\n",
      "Processing Record 40 of Set 1: Namibe\n",
      "Processing Record 41 of Set 1: Toliary\n",
      "HTTP Error 404: Not Found\n",
      "City not found. Skipping..\n",
      "Processing Record 42 of Set 1: Rikitea\n",
      "Processing Record 43 of Set 1: Malisbong\n",
      "HTTP Error 404: Not Found\n",
      "City not found. Skipping..\n",
      "Processing Record 44 of Set 1: Guerrero Negro\n",
      "Processing Record 45 of Set 1: Kahului\n",
      "Processing Record 46 of Set 1: Traverse City\n",
      "Processing Record 47 of Set 1: Qaanaaq\n",
      "Processing Record 48 of Set 1: Ushuaia\n",
      "Processing Record 49 of Set 1: Belushya Guba\n",
      "HTTP Error 404: Not Found\n",
      "City not found. Skipping..\n",
      "Processing Record 50 of Set 1: Samusu\n",
      "HTTP Error 404: Not Found\n",
      "City not found. Skipping..\n",
      "Processing Record 51 of Set 1: Mehamn\n",
      "Processing Record 52 of Set 1: Thompson\n",
      "Processing Record 53 of Set 1: Chokurdakh\n",
      "Processing Record 54 of Set 1: Tuktoyaktuk\n",
      "Processing Record 55 of Set 1: Fortuna\n",
      "Processing Record 56 of Set 1: Cheuskiny\n",
      "HTTP Error 404: Not Found\n",
      "City not found. Skipping..\n",
      "Processing Record 1 of Set 2: Kapaa\n",
      "Processing Record 2 of Set 2: Casper\n",
      "Processing Record 3 of Set 2: Severo-Kurilsk\n",
      "Processing Record 4 of Set 2: Acapulco\n",
      "Processing Record 5 of Set 2: Breyten\n",
      "Processing Record 6 of Set 2: Joao Pinheiro\n",
      "Processing Record 7 of Set 2: Albany\n",
      "Processing Record 8 of Set 2: Illoqqortoormiut\n",
      "HTTP Error 404: Not Found\n",
      "City not found. Skipping..\n",
      "Processing Record 9 of Set 2: Palabuhanratu\n",
      "HTTP Error 404: Not Found\n",
      "City not found. Skipping..\n",
      "Processing Record 10 of Set 2: Reo\n",
      "Processing Record 11 of Set 2: Bethel\n",
      "Processing Record 12 of Set 2: Ahipara\n",
      "Processing Record 13 of Set 2: Praia\n",
      "Processing Record 14 of Set 2: Busselton\n",
      "Processing Record 15 of Set 2: Hithadhoo\n",
      "Processing Record 16 of Set 2: Amderma\n",
      "HTTP Error 404: Not Found\n",
      "City not found. Skipping..\n",
      "Processing Record 17 of Set 2: Belinskiy\n",
      "Processing Record 18 of Set 2: Matameye\n",
      "HTTP Error 404: Not Found\n",
      "City not found. Skipping..\n",
      "Processing Record 19 of Set 2: Wuan\n",
      "Processing Record 20 of Set 2: Saint-Philippe\n",
      "Processing Record 21 of Set 2: Victoria\n",
      "Processing Record 22 of Set 2: Alyangula\n",
      "Processing Record 23 of Set 2: Kerteh\n",
      "HTTP Error 404: Not Found\n",
      "City not found. Skipping..\n",
      "Processing Record 24 of Set 2: Maiduguri\n",
      "Processing Record 25 of Set 2: Vaitupu\n",
      "HTTP Error 404: Not Found\n",
      "City not found. Skipping..\n",
      "Processing Record 26 of Set 2: Andernach\n",
      "Processing Record 27 of Set 2: Hovd\n",
      "Processing Record 28 of Set 2: Kaitangata\n",
      "Processing Record 29 of Set 2: Barentsburg\n",
      "HTTP Error 404: Not Found\n",
      "City not found. Skipping..\n",
      "Processing Record 30 of Set 2: Patea\n",
      "Processing Record 31 of Set 2: Indian Head\n",
      "Processing Record 32 of Set 2: La Ronge\n",
      "Processing Record 33 of Set 2: Hilo\n",
      "Processing Record 34 of Set 2: Mafinga\n",
      "Processing Record 35 of Set 2: Camacha\n",
      "Processing Record 36 of Set 2: Haibowan\n",
      "HTTP Error 404: Not Found\n",
      "City not found. Skipping..\n",
      "Processing Record 37 of Set 2: Smithers\n",
      "Processing Record 38 of Set 2: Witu\n",
      "Processing Record 39 of Set 2: Mataura\n",
      "Processing Record 40 of Set 2: Constitucion\n",
      "Processing Record 41 of Set 2: Munirabad\n",
      "Processing Record 42 of Set 2: Pozo Colorado\n",
      "Processing Record 43 of Set 2: Port Lincoln\n",
      "Processing Record 44 of Set 2: Bataipora\n",
      "Processing Record 45 of Set 2: Manzil Salim\n",
      "Processing Record 46 of Set 2: Bluff\n",
      "Processing Record 47 of Set 2: Kumbo\n",
      "Processing Record 48 of Set 2: Tazovskiy\n",
      "Processing Record 49 of Set 2: Coquimbo\n",
      "Processing Record 50 of Set 2: Cherskiy\n",
      "Processing Record 51 of Set 2: Shitanjing\n",
      "Processing Record 52 of Set 2: Lufkin\n",
      "Processing Record 53 of Set 2: Hasaki\n",
      "Processing Record 54 of Set 2: Clyde River\n",
      "Processing Record 55 of Set 2: Upernavik\n",
      "Processing Record 56 of Set 2: Mount Gambier\n",
      "Processing Record 1 of Set 3: Port Hedland\n",
      "Processing Record 2 of Set 3: Bambous Virieux\n",
      "Processing Record 3 of Set 3: Manokwari\n",
      "Processing Record 4 of Set 3: Umm Lajj\n",
      "Processing Record 5 of Set 3: Tura\n",
      "Processing Record 6 of Set 3: Viedma\n",
      "Processing Record 7 of Set 3: Voh\n",
      "Processing Record 8 of Set 3: Camana\n",
      "Processing Record 9 of Set 3: Piskivka\n",
      "Processing Record 10 of Set 3: Jieshi\n",
      "Processing Record 11 of Set 3: Quang Ngai\n",
      "Processing Record 12 of Set 3: Bella Union\n",
      "Processing Record 13 of Set 3: Barrow\n",
      "Processing Record 14 of Set 3: Escanaba\n",
      "Processing Record 15 of Set 3: Sept-Iles\n",
      "Processing Record 16 of Set 3: Arraial Do Cabo\n",
      "Processing Record 17 of Set 3: Sitka\n",
      "Processing Record 18 of Set 3: Faanui\n",
      "Processing Record 19 of Set 3: Huazolotitlan\n",
      "HTTP Error 404: Not Found\n",
      "City not found. Skipping..\n",
      "Processing Record 20 of Set 3: Yellowknife\n",
      "Processing Record 21 of Set 3: Bredasdorp\n",
      "Processing Record 22 of Set 3: Tuatapere\n",
      "Processing Record 23 of Set 3: Ekhabi\n",
      "Processing Record 24 of Set 3: Amapa\n",
      "Processing Record 25 of Set 3: Morehead\n",
      "Processing Record 26 of Set 3: Sarab\n",
      "Processing Record 27 of Set 3: Lebu\n",
      "Processing Record 28 of Set 3: Bereda\n",
      "Processing Record 29 of Set 3: Neyshabur\n",
      "Processing Record 30 of Set 3: Geraldton\n",
      "Processing Record 31 of Set 3: Egvekinot\n",
      "Processing Record 32 of Set 3: Moscow\n",
      "Processing Record 33 of Set 3: Shakawe\n",
      "Processing Record 34 of Set 3: Narsaq\n",
      "Processing Record 35 of Set 3: Aktas\n",
      "Processing Record 36 of Set 3: Butaritari\n",
      "Processing Record 37 of Set 3: Ambilobe\n",
      "Processing Record 38 of Set 3: Taltal\n",
      "Processing Record 39 of Set 3: Jamestown\n",
      "Processing Record 40 of Set 3: Airai\n",
      "Processing Record 41 of Set 3: Jalu\n",
      "Processing Record 42 of Set 3: Tecoanapa\n",
      "Processing Record 43 of Set 3: East London\n",
      "Processing Record 44 of Set 3: New Norfolk\n",
      "Processing Record 45 of Set 3: Kodiak\n",
      "Processing Record 46 of Set 3: Klaksvik\n",
      "Processing Record 47 of Set 3: Adrar\n",
      "Processing Record 48 of Set 3: Lakes Entrance\n",
      "Processing Record 49 of Set 3: Lampa\n",
      "Processing Record 50 of Set 3: Vila Do Maio\n",
      "Processing Record 51 of Set 3: Saint George\n",
      "Processing Record 52 of Set 3: Aljezur\n",
      "Processing Record 53 of Set 3: Nantucket\n",
      "Processing Record 54 of Set 3: Gladstone\n",
      "Processing Record 55 of Set 3: Bocas Del Toro\n",
      "Processing Record 56 of Set 3: Bilibino\n",
      "Processing Record 1 of Set 4: Vikhorevka\n",
      "Processing Record 2 of Set 4: Puerto Ayora\n",
      "Processing Record 3 of Set 4: Kieta\n",
      "Processing Record 4 of Set 4: Tocopilla\n",
      "Processing Record 5 of Set 4: Kamenskoye\n",
      "HTTP Error 404: Not Found\n",
      "City not found. Skipping..\n",
      "Processing Record 6 of Set 4: Sao Filipe\n",
      "Processing Record 7 of Set 4: La Asuncion\n",
      "Processing Record 8 of Set 4: Tasiilaq\n"
     ]
    },
    {
     "name": "stdout",
     "output_type": "stream",
     "text": [
      "Processing Record 9 of Set 4: San Ramon\n",
      "Processing Record 10 of Set 4: The Valley\n",
      "Processing Record 11 of Set 4: Barawe\n",
      "HTTP Error 404: Not Found\n",
      "City not found. Skipping..\n",
      "Processing Record 12 of Set 4: Sault Sainte Marie\n",
      "Processing Record 13 of Set 4: Srivardhan\n",
      "Processing Record 14 of Set 4: Kourou\n",
      "Processing Record 15 of Set 4: Saint-Lo\n",
      "Processing Record 16 of Set 4: Luhyny\n",
      "Processing Record 17 of Set 4: Yining\n",
      "Processing Record 18 of Set 4: Dronten\n",
      "Processing Record 19 of Set 4: Kavieng\n",
      "Processing Record 20 of Set 4: Polunochnoye\n",
      "Processing Record 21 of Set 4: Leshukonskoye\n",
      "Processing Record 22 of Set 4: Horadiz\n",
      "Processing Record 23 of Set 4: Los Llanos De Aridane\n",
      "Processing Record 24 of Set 4: Husavik\n",
      "Processing Record 25 of Set 4: Acarau\n",
      "Processing Record 26 of Set 4: Chuy\n",
      "Processing Record 27 of Set 4: Port Elizabeth\n",
      "Processing Record 28 of Set 4: Moba\n",
      "Processing Record 29 of Set 4: Tual\n",
      "Processing Record 30 of Set 4: Banikoara\n",
      "Processing Record 31 of Set 4: Kalevala\n",
      "Processing Record 32 of Set 4: Mpika\n",
      "Processing Record 33 of Set 4: Yumen\n",
      "Processing Record 34 of Set 4: Plettenberg Bay\n",
      "Processing Record 35 of Set 4: Luderitz\n",
      "Processing Record 36 of Set 4: Pingdingshan\n",
      "Processing Record 37 of Set 4: Lauro Muller\n",
      "Processing Record 38 of Set 4: Alofi\n",
      "Processing Record 39 of Set 4: Bin Qirdan\n",
      "Processing Record 40 of Set 4: Amuntai\n",
      "Processing Record 41 of Set 4: Luwuk\n",
      "Processing Record 42 of Set 4: Vardo\n",
      "Processing Record 43 of Set 4: Deer Lake\n",
      "Processing Record 44 of Set 4: Avarua\n",
      "Processing Record 45 of Set 4: Ancud\n",
      "Processing Record 46 of Set 4: Mumford\n",
      "Processing Record 47 of Set 4: Altagracia De Orituco\n",
      "Processing Record 48 of Set 4: Thunder Bay\n",
      "Processing Record 49 of Set 4: Ust-Kishert\n",
      "Processing Record 50 of Set 4: Pacific Grove\n",
      "Processing Record 51 of Set 4: Lavrentiya\n",
      "Processing Record 52 of Set 4: Mustasaari\n",
      "Processing Record 53 of Set 4: Ponta Pora\n",
      "Processing Record 54 of Set 4: Esso\n",
      "Processing Record 55 of Set 4: Marsh Harbour\n",
      "Processing Record 56 of Set 4: Asau\n",
      "Processing Record 1 of Set 5: Te Anau\n",
      "Processing Record 2 of Set 5: Fatikchhari\n",
      "HTTP Error 404: Not Found\n",
      "City not found. Skipping..\n",
      "Processing Record 3 of Set 5: Mackenzie\n",
      "Processing Record 4 of Set 5: Porto Nacional\n",
      "Processing Record 5 of Set 5: Georgetown\n",
      "Processing Record 6 of Set 5: Cayenne\n",
      "Processing Record 7 of Set 5: Baykit\n",
      "Processing Record 8 of Set 5: Lasa\n",
      "Processing Record 9 of Set 5: Dickinson\n",
      "Processing Record 10 of Set 5: Katsuura\n",
      "Processing Record 11 of Set 5: Galgani\n",
      "HTTP Error 404: Not Found\n",
      "City not found. Skipping..\n",
      "Processing Record 12 of Set 5: Shingu\n",
      "Processing Record 13 of Set 5: Saldanha\n",
      "Processing Record 14 of Set 5: Namatanai\n",
      "Processing Record 15 of Set 5: Chom Bung\n",
      "HTTP Error 404: Not Found\n",
      "City not found. Skipping..\n",
      "Processing Record 16 of Set 5: Marshall\n",
      "Processing Record 17 of Set 5: Weligama\n",
      "Processing Record 18 of Set 5: Codrington\n",
      "Processing Record 19 of Set 5: Buinsk\n",
      "Processing Record 20 of Set 5: Itambacuri\n",
      "Processing Record 21 of Set 5: Huaiyin\n",
      "Processing Record 22 of Set 5: Graaff-Reinet\n",
      "Processing Record 23 of Set 5: Saleaula\n",
      "HTTP Error 404: Not Found\n",
      "City not found. Skipping..\n",
      "Processing Record 24 of Set 5: Umea\n",
      "Processing Record 25 of Set 5: Lagoa\n",
      "Processing Record 26 of Set 5: Bambanglipuro\n",
      "Processing Record 27 of Set 5: Gelemso\n",
      "Processing Record 28 of Set 5: Vostok\n",
      "Processing Record 29 of Set 5: Isla Vista\n",
      "Processing Record 30 of Set 5: Riohacha\n",
      "Processing Record 31 of Set 5: Georgetown\n",
      "Processing Record 32 of Set 5: Puerto Baquerizo Moreno\n",
      "Processing Record 33 of Set 5: San Rafael\n",
      "Processing Record 34 of Set 5: Zhangjiakou\n",
      "Processing Record 35 of Set 5: Nanortalik\n",
      "Processing Record 36 of Set 5: Elizabeth City\n",
      "Processing Record 37 of Set 5: Salym\n",
      "Processing Record 38 of Set 5: Labuhan\n",
      "Processing Record 39 of Set 5: Ponta Do Sol\n",
      "Processing Record 40 of Set 5: Tilichiki\n",
      "Processing Record 41 of Set 5: Laguna\n",
      "Processing Record 42 of Set 5: Terney\n",
      "Processing Record 43 of Set 5: Steinbach\n",
      "Processing Record 44 of Set 5: Acari\n",
      "Processing Record 45 of Set 5: Cockburn Town\n",
      "Processing Record 46 of Set 5: Sao Joao Da Barra\n",
      "Processing Record 47 of Set 5: Belaya Gora\n",
      "Processing Record 48 of Set 5: Sambava\n",
      "Processing Record 49 of Set 5: Mahebourg\n",
      "Processing Record 50 of Set 5: Alugan\n",
      "Processing Record 51 of Set 5: Booue\n",
      "Processing Record 52 of Set 5: Murdochville\n",
      "Processing Record 53 of Set 5: Petropavlovsk-Kamchatskiy\n",
      "Processing Record 54 of Set 5: Nizhneyansk\n",
      "HTTP Error 404: Not Found\n",
      "City not found. Skipping..\n",
      "Processing Record 55 of Set 5: Kinsale\n",
      "Processing Record 56 of Set 5: Beringovskiy\n",
      "Processing Record 1 of Set 6: Kenai\n",
      "Processing Record 2 of Set 6: Mutsamudu\n",
      "HTTP Error 404: Not Found\n",
      "City not found. Skipping..\n",
      "Processing Record 3 of Set 6: Zaysan\n",
      "Processing Record 4 of Set 6: Maragogi\n",
      "Processing Record 5 of Set 6: Ponta Delgada\n",
      "Processing Record 6 of Set 6: Umzimvubu\n",
      "HTTP Error 404: Not Found\n",
      "City not found. Skipping..\n",
      "Processing Record 7 of Set 6: Salalah\n",
      "Processing Record 8 of Set 6: Pevek\n",
      "Processing Record 9 of Set 6: Brazzaville\n",
      "Processing Record 10 of Set 6: Waipawa\n",
      "Processing Record 11 of Set 6: Port Macquarie\n",
      "Processing Record 12 of Set 6: Esperance\n",
      "Processing Record 13 of Set 6: Aklavik\n",
      "Processing Record 14 of Set 6: Bonavista\n",
      "Processing Record 15 of Set 6: Sao Paulo De Olivenca\n",
      "Processing Record 16 of Set 6: Mandalgovi\n",
      "Processing Record 17 of Set 6: Cessnock\n",
      "Processing Record 18 of Set 6: Havre\n",
      "Processing Record 19 of Set 6: Bathsheba\n",
      "Processing Record 20 of Set 6: Henties Bay\n",
      "Processing Record 21 of Set 6: Providencia\n",
      "Processing Record 22 of Set 6: Bani Walid\n",
      "Processing Record 23 of Set 6: Norman Wells\n",
      "Processing Record 24 of Set 6: Labutta\n",
      "HTTP Error 404: Not Found\n",
      "City not found. Skipping..\n",
      "Processing Record 25 of Set 6: Hofn\n",
      "Processing Record 26 of Set 6: Bonthe\n",
      "Processing Record 27 of Set 6: Mar Del Plata\n",
      "Processing Record 28 of Set 6: Yeppoon\n",
      "Processing Record 29 of Set 6: Teya\n",
      "Processing Record 30 of Set 6: Aksarka\n",
      "Processing Record 31 of Set 6: Cabo San Lucas\n",
      "Processing Record 32 of Set 6: Mahajanga\n",
      "Processing Record 33 of Set 6: Gopalpur\n",
      "Processing Record 34 of Set 6: Stoyba\n",
      "HTTP Error 404: Not Found\n",
      "City not found. Skipping..\n",
      "Processing Record 35 of Set 6: Khani\n",
      "Processing Record 36 of Set 6: Mirina\n",
      "HTTP Error 404: Not Found\n",
      "City not found. Skipping..\n",
      "Processing Record 37 of Set 6: Ponnani\n",
      "Processing Record 38 of Set 6: Evensk\n",
      "Processing Record 39 of Set 6: Agropoli\n",
      "Processing Record 40 of Set 6: Kutum\n",
      "Processing Record 41 of Set 6: Karratha\n",
      "Processing Record 42 of Set 6: Menongue\n",
      "Processing Record 43 of Set 6: Naze\n",
      "Processing Record 44 of Set 6: Nicoya\n",
      "Processing Record 45 of Set 6: Divnomorskoye\n",
      "Processing Record 46 of Set 6: Gurgan\n",
      "HTTP Error 404: Not Found\n",
      "City not found. Skipping..\n",
      "Processing Record 47 of Set 6: High Rock\n",
      "Processing Record 48 of Set 6: Muyuka\n",
      "Processing Record 49 of Set 6: Vasto\n",
      "Processing Record 50 of Set 6: Avera\n",
      "Processing Record 51 of Set 6: Cao Bang\n",
      "Processing Record 52 of Set 6: Luwingu\n",
      "Processing Record 53 of Set 6: Grand Centre\n",
      "HTTP Error 404: Not Found\n",
      "City not found. Skipping..\n",
      "Processing Record 54 of Set 6: Kendal\n",
      "Processing Record 55 of Set 6: Takaungu\n",
      "Processing Record 56 of Set 6: Iqaluit\n",
      "Processing Record 1 of Set 7: Ituango\n",
      "Processing Record 2 of Set 7: Neuquen\n",
      "Processing Record 3 of Set 7: Nortelandia\n",
      "Processing Record 4 of Set 7: Seddon\n",
      "Processing Record 5 of Set 7: Sainte-Rose\n",
      "Processing Record 6 of Set 7: Mahibadhoo\n",
      "Processing Record 7 of Set 7: Dunedin\n",
      "Processing Record 8 of Set 7: Longyearbyen\n",
      "Processing Record 9 of Set 7: Hervey Bay\n",
      "Processing Record 10 of Set 7: Takoradi\n",
      "Processing Record 11 of Set 7: Alotau\n",
      "HTTP Error 404: Not Found\n",
      "City not found. Skipping..\n",
      "Processing Record 12 of Set 7: Morwell\n",
      "Processing Record 13 of Set 7: Sihora\n",
      "Processing Record 14 of Set 7: Miranda De Ebro\n",
      "Processing Record 15 of Set 7: Kibala\n",
      "Processing Record 16 of Set 7: Hambantota\n",
      "Processing Record 17 of Set 7: Selizharovo\n",
      "Processing Record 18 of Set 7: Beyneu\n",
      "Processing Record 19 of Set 7: Pasco\n",
      "Processing Record 20 of Set 7: Stornoway\n",
      "Processing Record 21 of Set 7: Ribeira Grande\n",
      "Processing Record 22 of Set 7: Lorengau\n",
      "Processing Record 23 of Set 7: Otjimbingwe\n",
      "Processing Record 24 of Set 7: Nguiu\n"
     ]
    },
    {
     "name": "stdout",
     "output_type": "stream",
     "text": [
      "HTTP Error 404: Not Found\n",
      "City not found. Skipping..\n",
      "Processing Record 25 of Set 7: Kamenka\n",
      "Processing Record 26 of Set 7: Canutama\n",
      "Processing Record 27 of Set 7: Vorukh\n",
      "Processing Record 28 of Set 7: Hun\n",
      "Processing Record 29 of Set 7: Port Moresby\n",
      "Processing Record 30 of Set 7: Boyolangu\n",
      "Processing Record 31 of Set 7: Rungata\n",
      "HTTP Error 404: Not Found\n",
      "City not found. Skipping..\n",
      "Processing Record 32 of Set 7: Nishihara\n",
      "Processing Record 33 of Set 7: Suntar\n",
      "Processing Record 34 of Set 7: Olafsvik\n",
      "Processing Record 35 of Set 7: Sovetskiy\n",
      "Processing Record 36 of Set 7: Tezu\n",
      "Processing Record 37 of Set 7: Deqing\n",
      "Processing Record 38 of Set 7: Mataram\n",
      "Processing Record 39 of Set 7: Lazaro Cardenas\n",
      "Processing Record 40 of Set 7: Karaul\n",
      "HTTP Error 404: Not Found\n",
      "City not found. Skipping..\n",
      "Processing Record 41 of Set 7: Kichmengskiy Gorodok\n",
      "Processing Record 42 of Set 7: Marienburg\n",
      "Processing Record 43 of Set 7: Quesnel\n",
      "Processing Record 44 of Set 7: Torbay\n",
      "Processing Record 45 of Set 7: Poum\n",
      "Processing Record 46 of Set 7: Batavia\n",
      "Processing Record 47 of Set 7: Krasnooktyabrskiy\n",
      "Processing Record 48 of Set 7: Itarema\n",
      "Processing Record 49 of Set 7: Mudgee\n",
      "Processing Record 50 of Set 7: Bandarbeyla\n",
      "Processing Record 51 of Set 7: Vrangel\n",
      "Processing Record 52 of Set 7: Ust-Maya\n",
      "Processing Record 53 of Set 7: Ust-Kuyga\n",
      "Processing Record 54 of Set 7: Gat\n",
      "Processing Record 55 of Set 7: Bargal\n",
      "HTTP Error 404: Not Found\n",
      "City not found. Skipping..\n",
      "Processing Record 56 of Set 7: Natal\n",
      "Processing Record 1 of Set 8: Weihe\n",
      "Processing Record 2 of Set 8: Venezuela\n",
      "Processing Record 3 of Set 8: Maceio\n",
      "Processing Record 4 of Set 8: Cockburn Harbour\n",
      "HTTP Error 404: Not Found\n",
      "City not found. Skipping..\n",
      "Processing Record 5 of Set 8: Mitu\n",
      "Processing Record 6 of Set 8: Barlinek\n",
      "Processing Record 7 of Set 8: Sisimiut\n",
      "Processing Record 8 of Set 8: Kavaratti\n",
      "Processing Record 9 of Set 8: Mareeba\n",
      "Processing Record 10 of Set 8: Balykshi\n",
      "HTTP Error 404: Not Found\n",
      "City not found. Skipping..\n",
      "Processing Record 11 of Set 8: Pitimbu\n",
      "Processing Record 12 of Set 8: Safranbolu\n",
      "Processing Record 13 of Set 8: Conde\n",
      "Processing Record 14 of Set 8: Saratoga Springs\n",
      "Processing Record 15 of Set 8: Grand Gaube\n",
      "Processing Record 16 of Set 8: Tiarei\n",
      "Processing Record 17 of Set 8: Omboue\n",
      "Processing Record 18 of Set 8: Ilovlya\n",
      "Processing Record 19 of Set 8: Berdigestyakh\n",
      "Processing Record 20 of Set 8: Alice Springs\n",
      "Processing Record 21 of Set 8: Berbera\n",
      "Processing Record 22 of Set 8: Ostrovnoy\n",
      "Processing Record 23 of Set 8: Yulara\n",
      "Processing Record 24 of Set 8: Rio Gallegos\n",
      "Processing Record 25 of Set 8: Nome\n",
      "Processing Record 26 of Set 8: Pangnirtung\n",
      "Processing Record 27 of Set 8: Jishou\n",
      "Processing Record 28 of Set 8: Bethanien\n",
      "Processing Record 29 of Set 8: Ayagoz\n",
      "Processing Record 30 of Set 8: Lamesa\n",
      "Processing Record 31 of Set 8: Najran\n",
      "Processing Record 32 of Set 8: Grand River South East\n",
      "HTTP Error 404: Not Found\n",
      "City not found. Skipping..\n",
      "Processing Record 33 of Set 8: Konin\n",
      "Processing Record 34 of Set 8: Sentyabrskiy\n",
      "HTTP Error 404: Not Found\n",
      "City not found. Skipping..\n",
      "Processing Record 35 of Set 8: Riyadh\n",
      "Processing Record 36 of Set 8: Samalaeulu\n",
      "HTTP Error 404: Not Found\n",
      "City not found. Skipping..\n",
      "Processing Record 37 of Set 8: Carnarvon\n",
      "Processing Record 38 of Set 8: Zhezkazgan\n",
      "Processing Record 39 of Set 8: Arlit\n",
      "Processing Record 40 of Set 8: Kununurra\n",
      "Processing Record 41 of Set 8: Cidreira\n",
      "Processing Record 42 of Set 8: Ponta Do Sol\n",
      "Processing Record 43 of Set 8: Wundanyi\n",
      "Processing Record 44 of Set 8: Puerto Escondido\n",
      "Processing Record 45 of Set 8: Santa Eulalia Del Rio\n",
      "HTTP Error 404: Not Found\n",
      "City not found. Skipping..\n",
      "Processing Record 46 of Set 8: Kidal\n",
      "Processing Record 47 of Set 8: Bengkulu\n",
      "Processing Record 48 of Set 8: Shaoyang\n",
      "Processing Record 49 of Set 8: Talovaya\n",
      "Processing Record 50 of Set 8: Aksu\n",
      "Processing Record 51 of Set 8: Haines Junction\n",
      "Processing Record 52 of Set 8: Vao\n",
      "Processing Record 53 of Set 8: Broken Hill\n",
      "Processing Record 54 of Set 8: Korla\n",
      "Processing Record 55 of Set 8: Zilair\n",
      "Processing Record 56 of Set 8: Pembroke\n",
      "Processing Record 1 of Set 9: Whithorn\n",
      "Processing Record 2 of Set 9: Richards Bay\n",
      "Processing Record 3 of Set 9: Falealupo\n",
      "HTTP Error 404: Not Found\n",
      "City not found. Skipping..\n",
      "Processing Record 4 of Set 9: Sola\n",
      "Processing Record 5 of Set 9: Gasa\n",
      "Processing Record 6 of Set 9: Hirara\n",
      "Processing Record 7 of Set 9: Eydhafushi\n",
      "Processing Record 8 of Set 9: Utiroa\n",
      "HTTP Error 404: Not Found\n",
      "City not found. Skipping..\n",
      "Processing Record 9 of Set 9: Broome\n",
      "Processing Record 10 of Set 9: Campamento\n",
      "Processing Record 11 of Set 9: Lukovetskiy\n",
      "Processing Record 12 of Set 9: Totton\n",
      "Processing Record 13 of Set 9: Gornopravdinsk\n",
      "Processing Record 14 of Set 9: Rawson\n",
      "Processing Record 15 of Set 9: Gazojak\n",
      "Processing Record 16 of Set 9: Taicheng\n",
      "Processing Record 17 of Set 9: Torrington\n",
      "Processing Record 18 of Set 9: Trinidad\n",
      "Processing Record 19 of Set 9: Hobyo\n",
      "Processing Record 20 of Set 9: Xining\n",
      "Processing Record 21 of Set 9: Jijiga\n",
      "Processing Record 22 of Set 9: Saint Anthony\n",
      "Processing Record 23 of Set 9: Ondorhaan\n",
      "HTTP Error 404: Not Found\n",
      "City not found. Skipping..\n",
      "Processing Record 24 of Set 9: Ust-Kulom\n",
      "Processing Record 25 of Set 9: Zeya\n",
      "Processing Record 26 of Set 9: Tayga\n",
      "Processing Record 27 of Set 9: Cumberland\n",
      "Processing Record 28 of Set 9: Atasu\n",
      "Processing Record 29 of Set 9: Mecca\n",
      "Processing Record 30 of Set 9: Attawapiskat\n",
      "HTTP Error 404: Not Found\n",
      "City not found. Skipping..\n",
      "Processing Record 31 of Set 9: Mangai\n",
      "Processing Record 32 of Set 9: Comodoro Rivadavia\n",
      "Processing Record 33 of Set 9: Lapua\n",
      "Processing Record 34 of Set 9: Olinda\n",
      "Processing Record 35 of Set 9: Jiblah\n",
      "Processing Record 36 of Set 9: Souillac\n",
      "Processing Record 37 of Set 9: Wynyard\n",
      "Processing Record 38 of Set 9: Ca Mau\n",
      "Processing Record 39 of Set 9: Bara\n",
      "Processing Record 40 of Set 9: Boa Vista\n",
      "Processing Record 41 of Set 9: Gemena\n",
      "Processing Record 42 of Set 9: Padang\n",
      "Processing Record 43 of Set 9: Lovozero\n",
      "Processing Record 44 of Set 9: Kurilsk\n",
      "Processing Record 45 of Set 9: Griffith\n",
      "Processing Record 46 of Set 9: Tromso\n",
      "Processing Record 47 of Set 9: Barbar\n",
      "HTTP Error 404: Not Found\n",
      "City not found. Skipping..\n",
      "Processing Record 48 of Set 9: Wulanhaote\n",
      "HTTP Error 404: Not Found\n",
      "City not found. Skipping..\n",
      "Processing Record 49 of Set 9: Benguela\n",
      "Processing Record 50 of Set 9: San Jeronimo\n",
      "Processing Record 51 of Set 9: Liloy\n",
      "Processing Record 52 of Set 9: Makaha\n",
      "Processing Record 53 of Set 9: Beira\n",
      "Processing Record 54 of Set 9: Pelym\n",
      "Processing Record 55 of Set 9: Puri\n",
      "Processing Record 56 of Set 9: Nadaun\n",
      "Processing Record 1 of Set 10: Port Blair\n",
      "Processing Record 2 of Set 10: Barcelos\n",
      "Processing Record 3 of Set 10: Berlevag\n",
      "Processing Record 4 of Set 10: Japura\n",
      "Processing Record 5 of Set 10: Jasper\n",
      "Processing Record 6 of Set 10: Pointe Michel\n",
      "Processing Record 7 of Set 10: Reconquista\n",
      "Processing Record 8 of Set 10: Shimoda\n",
      "Processing Record 9 of Set 10: San Quintin\n",
      "Processing Record 10 of Set 10: Leeton\n",
      "Processing Record 11 of Set 10: Tsihombe\n",
      "HTTP Error 404: Not Found\n",
      "City not found. Skipping..\n",
      "Processing Record 12 of Set 10: Kiunga\n",
      "Processing Record 13 of Set 10: Valera\n",
      "Processing Record 14 of Set 10: Burshtyn\n",
      "Processing Record 15 of Set 10: Bahia Blanca\n",
      "Processing Record 16 of Set 10: Nagornyy\n",
      "Processing Record 17 of Set 10: Trapani\n",
      "Processing Record 18 of Set 10: Montemor-O-Novo\n",
      "Processing Record 19 of Set 10: Isla Mujeres\n",
      "Processing Record 20 of Set 10: Lampang\n",
      "Processing Record 21 of Set 10: Mangan\n",
      "Processing Record 22 of Set 10: Rudnichnyy\n",
      "Processing Record 23 of Set 10: Sobolevo\n",
      "Processing Record 24 of Set 10: Vestbygda\n",
      "HTTP Error 404: Not Found\n",
      "City not found. Skipping..\n",
      "Processing Record 25 of Set 10: Lokosovo\n",
      "Processing Record 26 of Set 10: Leningradskiy\n",
      "Processing Record 27 of Set 10: Munkebo\n",
      "Processing Record 28 of Set 10: Mayo\n",
      "Processing Record 29 of Set 10: Solaro\n",
      "Processing Record 30 of Set 10: Lata\n",
      "Processing Record 31 of Set 10: Villanueva De La Serena\n",
      "Processing Record 32 of Set 10: Shihezi\n",
      "Processing Record 33 of Set 10: Rabaul\n",
      "Processing Record 34 of Set 10: Taman\n",
      "Processing Record 35 of Set 10: Maniitsoq\n",
      "Processing Record 36 of Set 10: Urdzhar\n",
      "HTTP Error 404: Not Found\n",
      "City not found. Skipping..\n",
      "Processing Record 37 of Set 10: Andselv\n",
      "HTTP Error 404: Not Found\n",
      "City not found. Skipping..\n",
      "Processing Record 38 of Set 10: Abrego\n"
     ]
    },
    {
     "name": "stdout",
     "output_type": "stream",
     "text": [
      "Processing Record 39 of Set 10: Tagusao\n",
      "Processing Record 40 of Set 10: Redlands\n",
      "Processing Record 41 of Set 10: Oussouye\n",
      "Processing Record 42 of Set 10: Svetlogorsk\n",
      "Processing Record 43 of Set 10: Batagay\n",
      "Processing Record 44 of Set 10: Carutapera\n",
      "Processing Record 45 of Set 10: Luancheng\n",
      "Processing Record 46 of Set 10: Saint-Augustin\n",
      "Processing Record 47 of Set 10: Santa Marta\n",
      "Processing Record 48 of Set 10: Tsukumi\n",
      "Processing Record 49 of Set 10: Havelock\n",
      "Processing Record 50 of Set 10: Fremont\n",
      "Processing Record 51 of Set 10: Quelimane\n",
      "Processing Record 52 of Set 10: Vagur\n",
      "Processing Record 53 of Set 10: Shevchenkove\n",
      "Processing Record 54 of Set 10: Bairiki\n",
      "Processing Record 55 of Set 10: Dingle\n",
      "Processing Record 56 of Set 10: Sinnamary\n",
      "Processing Record 1 of Set 11: Morgan City\n",
      "Processing Record 2 of Set 11: Fort Nelson\n",
      "Processing Record 3 of Set 11: Bolshoye Sorokino\n",
      "HTTP Error 404: Not Found\n",
      "City not found. Skipping..\n",
      "Processing Record 4 of Set 11: Samsun\n",
      "Processing Record 5 of Set 11: Hihifo\n",
      "HTTP Error 404: Not Found\n",
      "City not found. Skipping..\n",
      "Processing Record 6 of Set 11: Usta Muhammad\n",
      "Processing Record 7 of Set 11: Samarai\n",
      "Processing Record 8 of Set 11: Paoua\n",
      "Processing Record 9 of Set 11: Abha\n",
      "Processing Record 10 of Set 11: Wiang Sa\n",
      "Processing Record 11 of Set 11: Bosaso\n",
      "Processing Record 12 of Set 11: Kiruna\n",
      "Processing Record 13 of Set 11: Makung\n",
      "HTTP Error 404: Not Found\n",
      "City not found. Skipping..\n",
      "Processing Record 14 of Set 11: Pinheiro Machado\n",
      "Processing Record 15 of Set 11: Teguise\n",
      "Processing Record 16 of Set 11: San Vicente\n",
      "Processing Record 17 of Set 11: Valley City\n",
      "Processing Record 18 of Set 11: Platanos\n",
      "Processing Record 19 of Set 11: Baruun-Urt\n",
      "Processing Record 20 of Set 11: Neyvo-Shaytanskiy\n",
      "Processing Record 21 of Set 11: Zhangye\n",
      "Processing Record 22 of Set 11: Gawler\n",
      "Processing Record 23 of Set 11: Katherine\n",
      "Processing Record 24 of Set 11: Brooks\n",
      "Processing Record 25 of Set 11: Vila Velha\n",
      "Processing Record 26 of Set 11: Kaoma\n",
      "Processing Record 27 of Set 11: Antalaha\n",
      "Processing Record 28 of Set 11: Buluang\n",
      "Processing Record 29 of Set 11: Portland\n",
      "Processing Record 30 of Set 11: Walvis Bay\n",
      "Processing Record 31 of Set 11: Muravlenko\n",
      "Processing Record 32 of Set 11: Flinders\n",
      "Processing Record 33 of Set 11: Okato\n",
      "Processing Record 34 of Set 11: Quimper\n",
      "Processing Record 35 of Set 11: Stromness\n",
      "Processing Record 36 of Set 11: San Patricio\n",
      "Processing Record 37 of Set 11: Kyshtovka\n",
      "Processing Record 38 of Set 11: Rochefort\n",
      "Processing Record 39 of Set 11: Skalistyy\n",
      "HTTP Error 404: Not Found\n",
      "City not found. Skipping..\n",
      "Processing Record 40 of Set 11: Wegrow\n",
      "Processing Record 41 of Set 11: Warqla\n",
      "HTTP Error 404: Not Found\n",
      "City not found. Skipping..\n",
      "Processing Record 42 of Set 11: Yar-Sale\n",
      "Processing Record 43 of Set 11: Ust-Kamchatsk\n",
      "HTTP Error 404: Not Found\n",
      "City not found. Skipping..\n",
      "Processing Record 44 of Set 11: Vila Franca Do Campo\n",
      "Processing Record 45 of Set 11: Santa Isabel Do Rio Negro\n",
      "Processing Record 46 of Set 11: Antofagasta\n",
      "Processing Record 47 of Set 11: Nauta\n",
      "Processing Record 48 of Set 11: Prata\n",
      "Processing Record 49 of Set 11: Pathein\n",
      "Processing Record 50 of Set 11: Kirakira\n",
      "Processing Record 51 of Set 11: Tumannyy\n",
      "HTTP Error 404: Not Found\n",
      "City not found. Skipping..\n",
      "Processing Record 52 of Set 11: Isiro\n",
      "Processing Record 53 of Set 11: Astana\n",
      "Processing Record 54 of Set 11: Gornozavodsk\n",
      "Processing Record 55 of Set 11: Chokwe\n",
      "Processing Record 56 of Set 11: Khuzdar\n",
      "Processing Record 1 of Set 12: Freeport\n",
      "Processing Record 2 of Set 12: Concordia\n",
      "Processing Record 3 of Set 12: Springdale\n",
      "Processing Record 4 of Set 12: San Cristobal\n",
      "Processing Record 5 of Set 12: Ucluelet\n",
      "Processing successfully completed. Retrieved weather information for 560 cities\n",
      "-------------------------------------------------------------------------------------------\n"
     ]
    }
   ],
   "source": [
    "#using openweather api wrapper\n",
    "#create settings dictionary\n",
    "settings = {\"units\": \"imperial\", \"appid\": weather_api_key}\n",
    "\n",
    "#counter for API calls made to OpenWeatherAPI, max 60 calls per minute allowed for free APIcalls\n",
    "api_call_count = 1\n",
    "\n",
    "#counter to count the number of call sets\n",
    "sets = 1\n",
    "\n",
    "#get current time to set timer for max API calls\n",
    "t0 = time.time()\n",
    "\n",
    "#counter for city to see which city is being processed\n",
    "city_count = 0\n",
    "\n",
    "#iterate through dataframe rows\n",
    "print('Beginning Data Retrieval')\n",
    "print('--------------------------------------------------')\n",
    "\n",
    "for index, row in city_df.iterrows():\n",
    "    currentcity = row['City']\n",
    "    try:\n",
    "        print(f\"Processing Record {api_call_count} of Set {sets}: {currentcity}\")\n",
    "        response = ow.get_current(currentcity, **settings)\n",
    "        summary = [\"coord.lat\",\"coord.lon\", \"main.temp_max\", \"main.humidity\", \"clouds.all\", \"wind.speed\", \"dt\"]\n",
    "        weather_data = response(*summary)\n",
    "        city_df.loc[index, \"Latitude\"] = weather_data[0]\n",
    "        city_df.loc[index, \"Longitude\"] = weather_data[1]\n",
    "        city_df.loc[index, \"Max Temp(F)\"] = weather_data[2]\n",
    "        city_df.loc[index, \"Humidity(%)\"] = weather_data[3]\n",
    "        city_df.loc[index, \"Cloudiness(%)\"] = weather_data[4]\n",
    "        city_df.loc[index, \"Wind Speed(MPH)\"] = weather_data[5]\n",
    "        city_df.loc[index, \"Date\"] = weather_data[6]\n",
    "        city_count = city_count + 1\n",
    "        \n",
    "    except Exception as e:\n",
    "        print(e)\n",
    "        print(\"City not found. Skipping..\")\n",
    "    api_call_count = api_call_count + 1\n",
    "    \n",
    "    #loop to limit 57 API calls per minute\n",
    "    if api_call_count == 57:\n",
    "        t1 = time.time()\n",
    "        #reset api counter for the next set of API calls\n",
    "        api_call_count = 1\n",
    "        sets = sets+1\n",
    "        time.sleep(60-(t1-t0))\n",
    "        t0 = time.time()   \n",
    "        \n",
    "print(f\"Processing successfully completed. Retrieved weather information for {city_count} cities\")      \n",
    "print('-------------------------------------------------------------------------------------------')        "
   ]
  },
  {
   "cell_type": "code",
   "execution_count": 12,
   "metadata": {
    "scrolled": false
   },
   "outputs": [
    {
     "name": "stdout",
     "output_type": "stream",
     "text": [
      "<class 'pandas.core.frame.DataFrame'>\n",
      "RangeIndex: 621 entries, 0 to 620\n",
      "Data columns (total 9 columns):\n",
      "City               621 non-null object\n",
      "Country            621 non-null object\n",
      "Latitude           560 non-null float64\n",
      "Longitude          560 non-null float64\n",
      "Max Temp(F)        560 non-null float64\n",
      "Humidity(%)        560 non-null float64\n",
      "Cloudiness(%)      560 non-null float64\n",
      "Wind Speed(MPH)    560 non-null float64\n",
      "Date               560 non-null float64\n",
      "dtypes: float64(7), object(2)\n",
      "memory usage: 43.8+ KB\n"
     ]
    }
   ],
   "source": [
    "#test for empty cells\n",
    "city_df.info()"
   ]
  },
  {
   "cell_type": "code",
   "execution_count": 13,
   "metadata": {},
   "outputs": [
    {
     "data": {
      "text/plain": [
       "City               560\n",
       "Country            560\n",
       "Latitude           560\n",
       "Longitude          560\n",
       "Max Temp(F)        560\n",
       "Humidity(%)        560\n",
       "Cloudiness(%)      560\n",
       "Wind Speed(MPH)    560\n",
       "Date               560\n",
       "dtype: int64"
      ]
     },
     "execution_count": 13,
     "metadata": {},
     "output_type": "execute_result"
    }
   ],
   "source": [
    "#remove empty cells\n",
    "city_df = city_df.dropna(how='any')\n",
    "city_df.count()"
   ]
  },
  {
   "cell_type": "markdown",
   "metadata": {},
   "source": [
    "### Convert Raw Data to DataFrame\n",
    "* Export the city data into a .csv.\n",
    "* Display the DataFrame"
   ]
  },
  {
   "cell_type": "code",
   "execution_count": 14,
   "metadata": {},
   "outputs": [
    {
     "data": {
      "text/html": [
       "<div>\n",
       "<style scoped>\n",
       "    .dataframe tbody tr th:only-of-type {\n",
       "        vertical-align: middle;\n",
       "    }\n",
       "\n",
       "    .dataframe tbody tr th {\n",
       "        vertical-align: top;\n",
       "    }\n",
       "\n",
       "    .dataframe thead th {\n",
       "        text-align: right;\n",
       "    }\n",
       "</style>\n",
       "<table border=\"1\" class=\"dataframe\">\n",
       "  <thead>\n",
       "    <tr style=\"text-align: right;\">\n",
       "      <th></th>\n",
       "      <th>City</th>\n",
       "      <th>Country</th>\n",
       "      <th>Latitude</th>\n",
       "      <th>Longitude</th>\n",
       "      <th>Max Temp(F)</th>\n",
       "      <th>Humidity(%)</th>\n",
       "      <th>Cloudiness(%)</th>\n",
       "      <th>Wind Speed(MPH)</th>\n",
       "      <th>Date</th>\n",
       "    </tr>\n",
       "  </thead>\n",
       "  <tbody>\n",
       "    <tr>\n",
       "      <td>0</td>\n",
       "      <td>Srednekolymsk</td>\n",
       "      <td>RU</td>\n",
       "      <td>67.45</td>\n",
       "      <td>153.68</td>\n",
       "      <td>-9.78</td>\n",
       "      <td>88.0</td>\n",
       "      <td>0.0</td>\n",
       "      <td>3.02</td>\n",
       "      <td>1.584312e+09</td>\n",
       "    </tr>\n",
       "    <tr>\n",
       "      <td>1</td>\n",
       "      <td>Severnoye</td>\n",
       "      <td>RU</td>\n",
       "      <td>56.35</td>\n",
       "      <td>78.36</td>\n",
       "      <td>33.04</td>\n",
       "      <td>86.0</td>\n",
       "      <td>100.0</td>\n",
       "      <td>21.41</td>\n",
       "      <td>1.584312e+09</td>\n",
       "    </tr>\n",
       "    <tr>\n",
       "      <td>2</td>\n",
       "      <td>Port Alfred</td>\n",
       "      <td>ZA</td>\n",
       "      <td>-33.59</td>\n",
       "      <td>26.89</td>\n",
       "      <td>63.00</td>\n",
       "      <td>97.0</td>\n",
       "      <td>100.0</td>\n",
       "      <td>3.00</td>\n",
       "      <td>1.584312e+09</td>\n",
       "    </tr>\n",
       "    <tr>\n",
       "      <td>3</td>\n",
       "      <td>Cape Town</td>\n",
       "      <td>ZA</td>\n",
       "      <td>-33.93</td>\n",
       "      <td>18.42</td>\n",
       "      <td>64.99</td>\n",
       "      <td>63.0</td>\n",
       "      <td>20.0</td>\n",
       "      <td>20.80</td>\n",
       "      <td>1.584312e+09</td>\n",
       "    </tr>\n",
       "    <tr>\n",
       "      <td>4</td>\n",
       "      <td>Bud</td>\n",
       "      <td>NO</td>\n",
       "      <td>39.45</td>\n",
       "      <td>-86.18</td>\n",
       "      <td>46.00</td>\n",
       "      <td>83.0</td>\n",
       "      <td>90.0</td>\n",
       "      <td>9.17</td>\n",
       "      <td>1.584312e+09</td>\n",
       "    </tr>\n",
       "  </tbody>\n",
       "</table>\n",
       "</div>"
      ],
      "text/plain": [
       "            City Country  Latitude  Longitude  Max Temp(F)  Humidity(%)  \\\n",
       "0  Srednekolymsk      RU     67.45     153.68        -9.78         88.0   \n",
       "1      Severnoye      RU     56.35      78.36        33.04         86.0   \n",
       "2    Port Alfred      ZA    -33.59      26.89        63.00         97.0   \n",
       "3      Cape Town      ZA    -33.93      18.42        64.99         63.0   \n",
       "4            Bud      NO     39.45     -86.18        46.00         83.0   \n",
       "\n",
       "   Cloudiness(%)  Wind Speed(MPH)          Date  \n",
       "0            0.0             3.02  1.584312e+09  \n",
       "1          100.0            21.41  1.584312e+09  \n",
       "2          100.0             3.00  1.584312e+09  \n",
       "3           20.0            20.80  1.584312e+09  \n",
       "4           90.0             9.17  1.584312e+09  "
      ]
     },
     "execution_count": 14,
     "metadata": {},
     "output_type": "execute_result"
    }
   ],
   "source": [
    "#specify the file name to write dataframe to file and save\n",
    "\n",
    "city_df.to_csv(\"output_data.csv\", encoding='utf-8', index=False)\n",
    "\n",
    "#display the city weather data frame\n",
    "city_df.head()"
   ]
  },
  {
   "cell_type": "markdown",
   "metadata": {},
   "source": [
    "### Plotting the Data\n",
    "* Use proper labeling of the plots using plot titles (including date of analysis) and axes labels.\n",
    "* Save the plotted figures as .pngs."
   ]
  },
  {
   "cell_type": "markdown",
   "metadata": {},
   "source": [
    "#### Latitude vs. Temperature Plot"
   ]
  },
  {
   "cell_type": "code",
   "execution_count": 15,
   "metadata": {
    "scrolled": true
   },
   "outputs": [
    {
     "data": {
      "image/png": "[encoded data removed]",
      "text/plain": [
       "<Figure size 432x288 with 1 Axes>"
      ]
     },
     "metadata": {
      "needs_background": "light"
     },
     "output_type": "display_data"
    }
   ],
   "source": [
    "#plot lat vs max temp\n",
    "plt.scatter(city_df.iloc[:,2], city_df.iloc[:,4], marker = 'o', facecolors = 'yellow', edgecolors = 'black')\n",
    "plt.xlabel(\"Latitude\")\n",
    "plt.ylabel(\"Maximum Temperature\")\n",
    "plt.title(\"Latitude versus Maximum Temperature\")\n",
    "plt.grid()\n",
    "plt.savefig(\"lat_vs_max_temp.png\")"
   ]
  },
  {
   "cell_type": "markdown",
   "metadata": {},
   "source": [
    "The plot for latitude vs temperature shows that once we get further north of the equator (latitude = 0) the temperature drops significatly."
   ]
  },
  {
   "cell_type": "markdown",
   "metadata": {},
   "source": [
    "Latitude vs. Humidity Plot"
   ]
  },
  {
   "cell_type": "code",
   "execution_count": 16,
   "metadata": {},
   "outputs": [
    {
     "data": {
      "image/png": "[encoded data removed]",
      "text/plain": [
       "<Figure size 432x288 with 1 Axes>"
      ]
     },
     "metadata": {
      "needs_background": "light"
     },
     "output_type": "display_data"
    }
   ],
   "source": [
    "#plot lat vs humidity\n",
    "plt.scatter(city_df.iloc[:,2], city_df.iloc[:,5], marker = 'o', facecolors = 'pink', edgecolors = 'black')\n",
    "plt.xlabel(\"Latitude\")\n",
    "plt.ylabel(\"Humidity\")\n",
    "plt.title(\"Latitude versus Humidity Percentage\")\n",
    "plt.grid()\n",
    "plt.savefig(\"lat_vs_humidity.png\")"
   ]
  },
  {
   "cell_type": "markdown",
   "metadata": {},
   "source": [
    "The plot for the latitude vs humitidty shows that despite the latitude, most of the higher humdity (values greater than 40%) are across all latitudes."
   ]
  },
  {
   "cell_type": "markdown",
   "metadata": {},
   "source": [
    "#### Latitude vs. Cloudiness Plot"
   ]
  },
  {
   "cell_type": "code",
   "execution_count": 17,
   "metadata": {
    "scrolled": true
   },
   "outputs": [
    {
     "data": {
      "image/png": "[encoded data removed]",
      "text/plain": [
       "<Figure size 432x288 with 1 Axes>"
      ]
     },
     "metadata": {
      "needs_background": "light"
     },
     "output_type": "display_data"
    }
   ],
   "source": [
    "#plot lat vs cloudiness\n",
    "plt.scatter(city_df.iloc[:,2], city_df.iloc[:,6], marker = 'o', facecolors = 'blue', edgecolors = 'black')\n",
    "plt.xlabel(\"Latitude\")\n",
    "plt.ylabel(\"Cloudiness\")\n",
    "plt.title(\"Latitude versus Cloudiness\")\n",
    "plt.grid()\n",
    "plt.savefig(\"lat_vs_cloudiness.png\")"
   ]
  },
  {
   "cell_type": "markdown",
   "metadata": {},
   "source": [
    "The plot for the latitude vs cloudiness shows that there really isn't any significat difference across the latitudes."
   ]
  },
  {
   "cell_type": "markdown",
   "metadata": {},
   "source": [
    "#### Latitude vs. Wind Speed Plot"
   ]
  },
  {
   "cell_type": "code",
   "execution_count": 18,
   "metadata": {
    "scrolled": true
   },
   "outputs": [
    {
     "data": {
      "image/png": "[encoded data removed]",
      "text/plain": [
       "<Figure size 432x288 with 1 Axes>"
      ]
     },
     "metadata": {
      "needs_background": "light"
     },
     "output_type": "display_data"
    }
   ],
   "source": [
    "#plot lat vs wind speed\n",
    "plt.scatter(city_df.iloc[:,2], city_df.iloc[:,7], marker = 'o', facecolors = 'green', edgecolors = 'black')\n",
    "plt.xlabel(\"Latitude\")\n",
    "plt.ylabel(\"Wind Speed\")\n",
    "plt.title(\"Latitude versus Wind Speed\")\n",
    "plt.grid()\n",
    "plt.savefig(\"lat_vs_windspeed.png\")"
   ]
  },
  {
   "cell_type": "markdown",
   "metadata": {},
   "source": [
    "The plot for latitude vs wind speed shows that regardless which latitude, the wind will range between 0 and 20 MPH. There doesn't seem to be a latitude that is immune to wind."
   ]
  },
  {
   "cell_type": "markdown",
   "metadata": {},
   "source": [
    "## Linear Regression"
   ]
  },
  {
   "cell_type": "code",
   "execution_count": null,
   "metadata": {},
   "outputs": [],
   "source": [
    "# OPTIONAL: Create a function to create Linear Regression plots"
   ]
  },
  {
   "cell_type": "code",
   "execution_count": 19,
   "metadata": {
    "scrolled": true
   },
   "outputs": [
    {
     "data": {
      "text/html": [
       "<div>\n",
       "<style scoped>\n",
       "    .dataframe tbody tr th:only-of-type {\n",
       "        vertical-align: middle;\n",
       "    }\n",
       "\n",
       "    .dataframe tbody tr th {\n",
       "        vertical-align: top;\n",
       "    }\n",
       "\n",
       "    .dataframe thead th {\n",
       "        text-align: right;\n",
       "    }\n",
       "</style>\n",
       "<table border=\"1\" class=\"dataframe\">\n",
       "  <thead>\n",
       "    <tr style=\"text-align: right;\">\n",
       "      <th></th>\n",
       "      <th>City</th>\n",
       "      <th>Country</th>\n",
       "      <th>Latitude</th>\n",
       "      <th>Longitude</th>\n",
       "      <th>Max Temp(F)</th>\n",
       "      <th>Humidity(%)</th>\n",
       "      <th>Cloudiness(%)</th>\n",
       "      <th>Wind Speed(MPH)</th>\n",
       "      <th>Date</th>\n",
       "    </tr>\n",
       "  </thead>\n",
       "  <tbody>\n",
       "    <tr>\n",
       "      <td>606</td>\n",
       "      <td>Nauta</td>\n",
       "      <td>PE</td>\n",
       "      <td>-4.51</td>\n",
       "      <td>-73.58</td>\n",
       "      <td>78.51</td>\n",
       "      <td>86.0</td>\n",
       "      <td>97.0</td>\n",
       "      <td>2.62</td>\n",
       "      <td>1.584313e+09</td>\n",
       "    </tr>\n",
       "    <tr>\n",
       "      <td>607</td>\n",
       "      <td>Prata</td>\n",
       "      <td>BR</td>\n",
       "      <td>-19.31</td>\n",
       "      <td>-48.92</td>\n",
       "      <td>72.66</td>\n",
       "      <td>85.0</td>\n",
       "      <td>39.0</td>\n",
       "      <td>4.81</td>\n",
       "      <td>1.584313e+09</td>\n",
       "    </tr>\n",
       "    <tr>\n",
       "      <td>609</td>\n",
       "      <td>Kirakira</td>\n",
       "      <td>SB</td>\n",
       "      <td>-10.45</td>\n",
       "      <td>161.92</td>\n",
       "      <td>79.21</td>\n",
       "      <td>86.0</td>\n",
       "      <td>100.0</td>\n",
       "      <td>7.87</td>\n",
       "      <td>1.584313e+09</td>\n",
       "    </tr>\n",
       "    <tr>\n",
       "      <td>614</td>\n",
       "      <td>Chokwe</td>\n",
       "      <td>MZ</td>\n",
       "      <td>-24.53</td>\n",
       "      <td>32.98</td>\n",
       "      <td>73.96</td>\n",
       "      <td>92.0</td>\n",
       "      <td>11.0</td>\n",
       "      <td>5.41</td>\n",
       "      <td>1.584313e+09</td>\n",
       "    </tr>\n",
       "    <tr>\n",
       "      <td>617</td>\n",
       "      <td>Concordia</td>\n",
       "      <td>MX</td>\n",
       "      <td>-31.39</td>\n",
       "      <td>-58.02</td>\n",
       "      <td>70.00</td>\n",
       "      <td>95.0</td>\n",
       "      <td>95.0</td>\n",
       "      <td>5.99</td>\n",
       "      <td>1.584313e+09</td>\n",
       "    </tr>\n",
       "  </tbody>\n",
       "</table>\n",
       "</div>"
      ],
      "text/plain": [
       "          City Country  Latitude  Longitude  Max Temp(F)  Humidity(%)  \\\n",
       "606      Nauta      PE     -4.51     -73.58        78.51         86.0   \n",
       "607      Prata      BR    -19.31     -48.92        72.66         85.0   \n",
       "609   Kirakira      SB    -10.45     161.92        79.21         86.0   \n",
       "614     Chokwe      MZ    -24.53      32.98        73.96         92.0   \n",
       "617  Concordia      MX    -31.39     -58.02        70.00         95.0   \n",
       "\n",
       "     Cloudiness(%)  Wind Speed(MPH)          Date  \n",
       "606           97.0             2.62  1.584313e+09  \n",
       "607           39.0             4.81  1.584313e+09  \n",
       "609          100.0             7.87  1.584313e+09  \n",
       "614           11.0             5.41  1.584313e+09  \n",
       "617           95.0             5.99  1.584313e+09  "
      ]
     },
     "execution_count": 19,
     "metadata": {},
     "output_type": "execute_result"
    }
   ],
   "source": [
    "#create northern and southern hemisphere dataFrames\n",
    "#note, I included the equator (where lat = 0) as part of the southern hemisphere\n",
    "northern = city_df.loc[(city_df[\"Latitude\"] > 0), :]\n",
    "north_df = pd.DataFrame(northern)\n",
    "southern = city_df.loc[(city_df[\"Latitude\"] <= 0), :]\n",
    "south_df = pd.DataFrame(southern)\n",
    "\n",
    "#print data frame to show tail of the southern hemisphere\n",
    "south_df.tail()"
   ]
  },
  {
   "cell_type": "markdown",
   "metadata": {},
   "source": [
    "####  Northern Hemisphere - Max Temp vs. Latitude Linear Regression"
   ]
  },
  {
   "cell_type": "code",
   "execution_count": 20,
   "metadata": {},
   "outputs": [
    {
     "name": "stdout",
     "output_type": "stream",
     "text": [
      "The r-squared is: -0.8994808061562136\n"
     ]
    },
    {
     "data": {
      "image/png": "[encoded data removed]",
      "text/plain": [
       "<Figure size 432x288 with 1 Axes>"
      ]
     },
     "metadata": {
      "needs_background": "light"
     },
     "output_type": "display_data"
    }
   ],
   "source": [
    "#plot northern hemisphere lat vs max temp\n",
    "x_values = north_df.iloc[:,2]\n",
    "y_values = north_df.iloc[:,4]\n",
    "slope, intercept, r_value, p_value, std_err = st.linregress(x_values, y_values)\n",
    "\n",
    "regress_values = x_values * slope + intercept\n",
    "line_eq = \"y = \" + str(round(slope,2)) + \"x + \" + str(round(intercept,2))\n",
    "plt.scatter(x_values, y_values)\n",
    "plt.plot(x_values, regress_values, \"r-\")\n",
    "plt.annotate(line_eq, (0,0), fontsize=15, color=\"red\")\n",
    "\n",
    "plt.xlabel(\"Latitude\")\n",
    "plt.ylabel(\"Maximum Temperature in Degrees Fahrenheit\")\n",
    "plt.title(\"Northern Hemisphere Latitude versus Maximum Temperature\")\n",
    "print(f\"The r-squared is: {r_value}\")\n",
    "plt.grid()"
   ]
  },
  {
   "cell_type": "markdown",
   "metadata": {},
   "source": [
    "The northern hemisphere - max temp vs latitude show that there seems to be a negative but strong correlation. The temperature the further north of the equator is colder."
   ]
  },
  {
   "cell_type": "markdown",
   "metadata": {},
   "source": [
    "####  Southern Hemisphere - Max Temp vs. Latitude Linear Regression"
   ]
  },
  {
   "cell_type": "code",
   "execution_count": 21,
   "metadata": {
    "scrolled": true
   },
   "outputs": [
    {
     "name": "stdout",
     "output_type": "stream",
     "text": [
      "The r-squared is: 0.6383612417616855\n"
     ]
    },
    {
     "data": {
      "image/png": "[encoded data removed]",
      "text/plain": [
       "<Figure size 432x288 with 1 Axes>"
      ]
     },
     "metadata": {
      "needs_background": "light"
     },
     "output_type": "display_data"
    }
   ],
   "source": [
    "#plot southern hemisphere lat vs max temp\n",
    "x_values = south_df.iloc[:,2]\n",
    "y_values = south_df.iloc[:,4]\n",
    "slope, intercept, r_value, p_value, std_err = st.linregress(x_values, y_values)\n",
    "\n",
    "regress_values = x_values * slope + intercept\n",
    "line_eq = \"y = \" + str(round(slope,2)) + \"x + \" + str(round(intercept,2))\n",
    "plt.scatter(x_values, y_values)\n",
    "plt.plot(x_values, regress_values, \"r-\")\n",
    "plt.annotate(line_eq, (-40,45), fontsize=15, color=\"red\")\n",
    "\n",
    "plt.xlabel(\"Latitude\")\n",
    "plt.ylabel(\"Maximum Temperature in Degrees Fahrenheit\")\n",
    "plt.title(\"Southern Hemisphere Latitude versus Maximum Temperature\")\n",
    "print(f\"The r-squared is: {r_value}\")\n",
    "plt.grid()"
   ]
  },
  {
   "cell_type": "markdown",
   "metadata": {},
   "source": [
    "The southern hemisphere - max temp vs latitude show that there seems to be a moderate correlation. The temperature the further south of the equator is colder."
   ]
  },
  {
   "cell_type": "markdown",
   "metadata": {},
   "source": [
    "####  Northern Hemisphere - Humidity (%) vs. Latitude Linear Regression"
   ]
  },
  {
   "cell_type": "code",
   "execution_count": 22,
   "metadata": {
    "scrolled": true
   },
   "outputs": [
    {
     "name": "stdout",
     "output_type": "stream",
     "text": [
      "The r-squared is: 0.17209252950450768\n"
     ]
    },
    {
     "data": {
      "image/png": "[encoded data removed]",
      "text/plain": [
       "<Figure size 432x288 with 1 Axes>"
      ]
     },
     "metadata": {
      "needs_background": "light"
     },
     "output_type": "display_data"
    }
   ],
   "source": [
    "#plot northern hemisphere lat vs humidity\n",
    "x_values = north_df.iloc[:,2]\n",
    "y_values = north_df.iloc[:,5]\n",
    "slope, intercept, r_value, p_value, std_err = st.linregress(x_values, y_values)\n",
    "\n",
    "regress_values = x_values * slope + intercept\n",
    "line_eq = \"y = \" + str(round(slope,2)) + \"x + \" + str(round(intercept,2))\n",
    "plt.scatter(x_values, y_values)\n",
    "plt.plot(x_values, regress_values, \"r-\")\n",
    "plt.annotate(line_eq, (40,10), fontsize=15, color=\"red\")\n",
    "\n",
    "plt.xlabel(\"Latitude\")\n",
    "plt.ylabel(\"Humidity\")\n",
    "plt.title(\"Northern Hemisphere Latitude versus Humidity\")\n",
    "print(f\"The r-squared is: {r_value}\")\n",
    "plt.grid()"
   ]
  },
  {
   "cell_type": "markdown",
   "metadata": {},
   "source": [
    "The northern hemisphere - latitude vs humidity has no correlation strength being only 0.17209."
   ]
  },
  {
   "cell_type": "markdown",
   "metadata": {},
   "source": [
    "####  Southern Hemisphere - Humidity (%) vs. Latitude Linear Regression"
   ]
  },
  {
   "cell_type": "code",
   "execution_count": 23,
   "metadata": {},
   "outputs": [
    {
     "name": "stdout",
     "output_type": "stream",
     "text": [
      "The r-squared is: 0.33621305953816616\n"
     ]
    },
    {
     "data": {
      "image/png": "[encoded data removed]",
      "text/plain": [
       "<Figure size 432x288 with 1 Axes>"
      ]
     },
     "metadata": {
      "needs_background": "light"
     },
     "output_type": "display_data"
    }
   ],
   "source": [
    "#plot southern hemisphere lat vs humidity\n",
    "x_values = south_df.iloc[:,2]\n",
    "y_values = south_df.iloc[:,5]\n",
    "slope, intercept, r_value, p_value, std_err = st.linregress(x_values, y_values)\n",
    "\n",
    "regress_values = x_values * slope + intercept\n",
    "line_eq = \"y = \" + str(round(slope,2)) + \"x + \" + str(round(intercept,2))\n",
    "plt.scatter(x_values, y_values)\n",
    "plt.plot(x_values, regress_values, \"r-\")\n",
    "plt.annotate(line_eq, (-55,23), fontsize=15, color=\"red\")\n",
    "\n",
    "plt.xlabel(\"Latitude\")\n",
    "plt.ylabel(\"Humidity\")\n",
    "plt.title(\"Southern Hemisphere Latitude versus Humidity\")\n",
    "print(f\"The r-squared is: {r_value}\")\n",
    "plt.grid()"
   ]
  },
  {
   "cell_type": "markdown",
   "metadata": {},
   "source": [
    "The southern hemisphere - latitude vs humidity has a weak correlation strength being only 0.3362."
   ]
  },
  {
   "cell_type": "markdown",
   "metadata": {},
   "source": [
    "####  Northern Hemisphere - Cloudiness (%) vs. Latitude Linear Regression"
   ]
  },
  {
   "cell_type": "code",
   "execution_count": 24,
   "metadata": {},
   "outputs": [
    {
     "name": "stdout",
     "output_type": "stream",
     "text": [
      "The r-squared is: 0.1386981453748098\n"
     ]
    },
    {
     "data": {
      "image/png": "[encoded data removed]",
      "text/plain": [
       "<Figure size 432x288 with 1 Axes>"
      ]
     },
     "metadata": {
      "needs_background": "light"
     },
     "output_type": "display_data"
    }
   ],
   "source": [
    "#plot northern hemisphere lat vs cloudiness\n",
    "x_values = north_df.iloc[:,2]\n",
    "y_values = north_df.iloc[:,6]\n",
    "slope, intercept, r_value, p_value, std_err = st.linregress(x_values, y_values)\n",
    "\n",
    "regress_values = x_values * slope + intercept\n",
    "line_eq = \"y = \" + str(round(slope,2)) + \"x + \" + str(round(intercept,2))\n",
    "plt.scatter(x_values, y_values)\n",
    "plt.plot(x_values, regress_values, \"r-\")\n",
    "plt.annotate(line_eq, (45,25), fontsize=15, color=\"red\")\n",
    "\n",
    "plt.xlabel(\"Latitude\")\n",
    "plt.ylabel(\"Cloudiness\")\n",
    "plt.title(\"Northern Hemisphere Latitude versus Cloudiness\")\n",
    "print(f\"The r-squared is: {r_value}\")\n",
    "plt.grid()"
   ]
  },
  {
   "cell_type": "markdown",
   "metadata": {},
   "source": [
    "The northern hemisphere - The cloudiness vs latitude doesn't show a strong correlation at 0.13869."
   ]
  },
  {
   "cell_type": "markdown",
   "metadata": {},
   "source": [
    "####  Southern Hemisphere - Cloudiness (%) vs. Latitude Linear Regression"
   ]
  },
  {
   "cell_type": "code",
   "execution_count": 25,
   "metadata": {},
   "outputs": [
    {
     "name": "stdout",
     "output_type": "stream",
     "text": [
      "The r-squared is: 0.2257710545163435\n"
     ]
    },
    {
     "data": {
      "image/png": "[encoded data removed]",
      "text/plain": [
       "<Figure size 432x288 with 1 Axes>"
      ]
     },
     "metadata": {
      "needs_background": "light"
     },
     "output_type": "display_data"
    }
   ],
   "source": [
    "#plot southern hemisphere lat vs cloudiness\n",
    "x_values = south_df.iloc[:,2]\n",
    "y_values = south_df.iloc[:,6]\n",
    "slope, intercept, r_value, p_value, std_err = st.linregress(x_values, y_values)\n",
    "\n",
    "regress_values = x_values * slope + intercept\n",
    "line_eq = \"y = \" + str(round(slope,2)) + \"x + \" + str(round(intercept,2))\n",
    "plt.scatter(x_values, y_values)\n",
    "plt.plot(x_values, regress_values, \"r-\")\n",
    "plt.annotate(line_eq, (-55,11), fontsize=15, color=\"red\")\n",
    "\n",
    "plt.xlabel(\"Latitude\")\n",
    "plt.ylabel(\"Cloudiness\")\n",
    "plt.title(\"Southern Hemisphere Latitude versus Cloudiness\")\n",
    "print(f\"The r-squared is: {r_value}\")\n",
    "plt.grid()"
   ]
  },
  {
   "cell_type": "markdown",
   "metadata": {},
   "source": [
    "The southern hemisphere - The cloudiness vs latitude doesn't show a strong correlation at 0.22577."
   ]
  },
  {
   "cell_type": "markdown",
   "metadata": {},
   "source": [
    "####  Northern Hemisphere - Wind Speed (mph) vs. Latitude Linear Regression"
   ]
  },
  {
   "cell_type": "code",
   "execution_count": 26,
   "metadata": {},
   "outputs": [
    {
     "name": "stdout",
     "output_type": "stream",
     "text": [
      "The r-squared is: 0.11147376074977473\n"
     ]
    },
    {
     "data": {
      "image/png": "[encoded data removed]",
      "text/plain": [
       "<Figure size 432x288 with 1 Axes>"
      ]
     },
     "metadata": {
      "needs_background": "light"
     },
     "output_type": "display_data"
    }
   ],
   "source": [
    "#plot northern hemisphere lat vs wind speed\n",
    "x_values = north_df.iloc[:,2]\n",
    "y_values = north_df.iloc[:,7]\n",
    "slope, intercept, r_value, p_value, std_err = st.linregress(x_values, y_values)\n",
    "\n",
    "regress_values = x_values * slope + intercept\n",
    "line_eq = \"y = \" + str(round(slope,2)) + \"x + \" + str(round(intercept,2))\n",
    "plt.scatter(x_values, y_values)\n",
    "plt.plot(x_values, regress_values, \"r-\")\n",
    "plt.annotate(line_eq, (0,27), fontsize=15, color=\"red\")\n",
    "\n",
    "plt.xlabel(\"Latitude\")\n",
    "plt.ylabel(\"Wind Speed\")\n",
    "plt.title(\"Northern Hemisphere Latitude versus Wind Speed\")\n",
    "print(f\"The r-squared is: {r_value}\")\n",
    "plt.grid()"
   ]
  },
  {
   "cell_type": "markdown",
   "metadata": {},
   "source": [
    "The northern hemisphere - The wind speed vs latitude doesn't show a strong correlation at 0.11147."
   ]
  },
  {
   "cell_type": "markdown",
   "metadata": {},
   "source": [
    "####  Southern Hemisphere - Wind Speed (mph) vs. Latitude Linear Regression"
   ]
  },
  {
   "cell_type": "code",
   "execution_count": 28,
   "metadata": {},
   "outputs": [
    {
     "name": "stdout",
     "output_type": "stream",
     "text": [
      "The r-squared is: -0.4643591003494674\n"
     ]
    },
    {
     "data": {
      "image/png": "[encoded data removed]",
      "text/plain": [
       "<Figure size 432x288 with 1 Axes>"
      ]
     },
     "metadata": {
      "needs_background": "light"
     },
     "output_type": "display_data"
    }
   ],
   "source": [
    "#plot southern hemisphere lat vs wind speed\n",
    "x_values = south_df.iloc[:,2]\n",
    "y_values = south_df.iloc[:,7]\n",
    "slope, intercept, r_value, p_value, std_err = st.linregress(x_values, y_values)\n",
    "\n",
    "regress_values = x_values * slope + intercept\n",
    "line_eq = \"y = \" + str(round(slope,2)) + \"x + \" + str(round(intercept,2))\n",
    "plt.scatter(x_values, y_values)\n",
    "plt.plot(x_values, regress_values, \"r-\")\n",
    "plt.annotate(line_eq, (-55,25), fontsize=15, color=\"red\")\n",
    "\n",
    "plt.xlabel(\"Latitude\")\n",
    "plt.ylabel(\"Wind Speed\")\n",
    "plt.title(\"Southern Hemisphere Latitude versus Wind Speed\")\n",
    "print(f\"The r-squared is: {r_value}\")\n",
    "plt.grid()"
   ]
  },
  {
   "cell_type": "markdown",
   "metadata": {},
   "source": [
    "The southern hemisphere - The wind speed vs latitude shows a weak but negative correlation at -0.46435."
   ]
  }
 ],
 "metadata": {
  "anaconda-cloud": {},
  "kernel_info": {
   "name": "python3"
  },
  "kernelspec": {
   "display_name": "Python 3.7.4 64-bit ('base': conda)",
   "language": "python",
   "name": "python37464bitbasecondac6f1fed7da40427ba8d315f08c07b158"
  },
  "language_info": {
   "codemirror_mode": {
    "name": "ipython",
    "version": 3
   },
   "file_extension": ".py",
   "mimetype": "text/x-python",
   "name": "python",
   "nbconvert_exporter": "python",
   "pygments_lexer": "ipython3",
   "version": "3.7.4"
  },
  "latex_envs": {
   "LaTeX_envs_menu_present": true,
   "autoclose": false,
   "autocomplete": true,
   "bibliofile": "biblio.bib",
   "cite_by": "apalike",
   "current_citInitial": 1,
   "eqLabelWithNumbers": true,
   "eqNumInitial": 1,
   "hotkeys": {
    "equation": "Ctrl-E",
    "itemize": "Ctrl-I"
   },
   "labels_anchors": false,
   "latex_user_defs": false,
   "report_style_numbering": false,
   "user_envs_cfg": false
  },
  "nteract": {
   "version": "0.12.3"
  }
 },
 "nbformat": 4,
 "nbformat_minor": 2
}
