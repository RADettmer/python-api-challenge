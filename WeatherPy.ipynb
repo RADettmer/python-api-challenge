{
 "cells": [
  {
   "cell_type": "markdown",
   "metadata": {},
   "source": [
    "# WeatherPy\n",
    "----\n",
    "\n",
    "#### Note\n",
    "* Instructions have been included for each segment. You do not have to follow them exactly, but they are included to help you think through the steps."
   ]
  },
  {
   "cell_type": "code",
   "execution_count": null,
   "metadata": {
    "scrolled": true
   },
   "outputs": [],
   "source": [
    "# Dependencies and Setup - - - - -  - - - - - - - - - - - 3/13/2020 - Randy Dettmer\n",
    "import matplotlib.pyplot as plt\n",
    "import openweathermapy as owm\n",
    "import pandas as pd\n",
    "import numpy as np\n",
    "import requests\n",
    "import json\n",
    "import time\n",
    "from scipy.stats import linregress\n",
    "import scipy.stats as st\n",
    "\n",
    "import os\n",
    "import csv\n",
    "\n",
    "# Import API key\n",
    "from api_keys import weather_api_key\n",
    "\n",
    "# Incorporated citipy to determine city based on latitude and longitude\n",
    "from citipy import citipy\n",
    "\n",
    "# Range of latitudes and longitudes\n",
    "lat_range = (-90, 90)\n",
    "lng_range = (-180, 180)"
   ]
  },
  {
   "cell_type": "markdown",
   "metadata": {},
   "source": [
    "## Generate Cities List"
   ]
  },
  {
   "cell_type": "code",
   "execution_count": null,
   "metadata": {
    "scrolled": true
   },
   "outputs": [],
   "source": [
    "# List for holding lat_lngs and cities 3/13/2019\n",
    "lat_lngs = []\n",
    "cities = []\n",
    "\n",
    "# Create a set of random lat and lng combinations\n",
    "lats = np.random.uniform(low=-90.000, high=90.000, size=1500)\n",
    "lngs = np.random.uniform(low=-180.000, high=180.000, size=1500)\n",
    "lat_lngs = zip(lats, lngs)\n",
    "\n",
    "# Identify nearest city for each lat, lng combination\n",
    "for lat_lng in lat_lngs:\n",
    "    city = citipy.nearest_city(lat_lng[0], lat_lng[1]).city_name\n",
    "    \n",
    "    # If the city is unique, then add it to a our cities list\n",
    "    if city not in cities:\n",
    "        cities.append(city)\n",
    "\n",
    "# Print the city count to confirm sufficient count\n",
    "len(cities)"
   ]
  },
  {
   "cell_type": "code",
   "execution_count": null,
   "metadata": {},
   "outputs": [],
   "source": [
    "print(cities)"
   ]
  },
  {
   "cell_type": "markdown",
   "metadata": {},
   "source": [
    "### Perform API Calls\n",
    "* Perform a weather check on each city using a series of successive API calls.\n",
    "* Include a print log of each city as it'sbeing processed (with the city number and city name).\n"
   ]
  },
  {
   "cell_type": "code",
   "execution_count": null,
   "metadata": {},
   "outputs": [],
   "source": [
    "# Create settings dictionary with information we're interested in - set temperature to fahrenheit - 3/13/2019\n",
    "url = \"http://api.openweathermap.org/data/2.5/weather?\"\n",
    "units = 'imperial'\n",
    "#settings = {\"units\": \"imperial\", \"appid\": weather_api_key}\n",
    "\n",
    "query_url = f\"{url}appid={weather_api_key}&units={units}&q=\"\n",
    "\n",
    "# Initialize data frame to store data from API calls\n",
    "wdata_df =pd.DataFrame(columns = [\"City\", \"Country\", \"Lat\", \"Lng\",\n",
    "                              \"Date\", \"Max Temp\", \"Humidity\",\n",
    "                              \"Cloudiness\",\"Wind Speed\"])\n",
    "#wdata_df.head()"
   ]
  },
  {
   "cell_type": "code",
   "execution_count": null,
   "metadata": {},
   "outputs": [],
   "source": [
    "#test 3 3 3 wrong wrong wrong wrong wrong wrong\n",
    "\n",
    "count = 1 # counter to count the number of calls to API\n",
    "err = 0 # error count to record how many cities the API responds back with no data.\n",
    "sets = 0 # counter to count the number of call sets\n",
    "index = 0 # index for the data frame WeatherPy data frame\n",
    "\n",
    "#Get current time - do we need this????\n",
    "t0 = time.time()\n",
    "\n",
    "print(f'Beginning Data Retrieval \\n ........................')\n",
    "\n",
    "for city in cities:\n",
    "    try:\n",
    "\n",
    "        print(f'Processing Record {count} of Set {sets} | {city}' )\n",
    "\n",
    "        response = requests.get(query_url + city).json()\n",
    "\n",
    "# Initialize data frame to store data from API calls\n",
    "        wdata_df.loc[index, \"City\"] = response[0][\"name\"]\n",
    "        wdata_df.loc[index, \"Cloudiness\"] = response[0][\"clouds\"][\"all\"]\n",
    "        wdata_df.loc[index, \"Country\"] = response[0][\"sys\"][\"country\"]\n",
    "        wdata_df.loc[index, \"Date\"] = response[0][\"dt\"]\n",
    "        wdata_df.loc[index, \"Max Temp\"] = response[0][\"main\"][\"temp_max\"]\n",
    "        wdata_df.loc[index, \"Wind Speed\"] = response[0][\"wind\"][\"speed\"]\n",
    "        wdata_df.loc[index, \"Lat\"] = response[0][\"coord\"][\"lat\"]\n",
    "        wdata_df.loc[index, \"Lng\"] = response[0][\"coord\"][\"lon\"]\n",
    "        wdata_df.loc[index, \"Humidity\"] = response[0][\"main\"][\"humidity\"]\n",
    "        index = index +1\n",
    "    except Exception as e:\n",
    "        print(e)\n",
    "        err= err+1\n",
    "    count = count+1\n",
    "    if count == 53: # loop to limit 50 API calls per minute. The OpenWeatherMap API limit is 60 calls/min\n",
    "        t1=time.time()\n",
    "        count = 1\n",
    "        sets = sets+1\n",
    "        time.sleep(60-(t1-t0))\n",
    "        t0=time.time()\n",
    "print(\"end of stats loop\")\n",
    "print(f'Could not get data for {err} cities')"
   ]
  },
  {
   "cell_type": "code",
   "execution_count": null,
   "metadata": {},
   "outputs": [],
   "source": [
    "#test again - api.openweathermap.org/data/2.5/weather?q={city name}&appid={your api key}\n",
    "settings = {\"units\": \"imperial\", \"appid\": weather_api_key}\n",
    "#imperial api.openweathermap.org/data/2.5/find?q=London&units=imperial\n",
    "# base url \"find?q=\" 'city name' \"&units=imperial\" \"&appid=\" api key\n",
    "\n",
    "#set up lists to hold response info\n",
    "#url = \"http://api.openweathermap.org/data/2.5/weather?q=\"\n",
    "#units = \"imperial\"\n",
    "#towns = ['ushuaia', 'inta', 'butaritari', 'barentsburg', 'new norfolk'] #test list\n",
    "#cities = [\"Paris\", \"London\", \"Oslo\", \"Bejing\"]\n",
    "#df = pd.DataFrame(cities)\n",
    "#df.head()\n",
    "\n",
    "#query_url = f\"{url}appid={weather_api_key}&units={units}&q=\"\n",
    "\n",
    "#cloudiness = []\n",
    "#country = []\n",
    "#date = []\n",
    "#humidity = []\n",
    "#lat = []\n",
    "#lng = []\n",
    "#max_temp = []\n",
    "#wind_speed = []\n",
    "\n",
    "wresponse = []\n",
    "\n",
    "#loop thru cities\n",
    "#for town in towns:\n",
    "#for city in cities:\n",
    "for index, row in df.iterrows():\n",
    "    #response = requests.get(query_url + town).json()\n",
    "    #response = requests.get(url + city + \"&units=imperial\" + \"&appid=\" + weather_api_key).json()\n",
    "    #print(city)\n",
    "    wresponse.append(owm.get_current(row[0], **settings))\n",
    "    \n",
    "\n",
    "    #print(f'current weather for obj: {response}')\n",
    "    \n",
    "    \n",
    "    #city.append(response['name'])\n",
    "    #cloudiness.append(response['clouds']['all'])\n",
    "    #country.append(response['sys']['country'])\n",
    "    #date.append(response['dt'])\n",
    "    #humidity.append(response['main']['humidity'])\n",
    "    #lat.append(response['coord']['lat'])\n",
    "    #lng.append(response['coord']['lon'])\n",
    "    #max_temp.append(response['main']['temp_max'])\n",
    "    #wind_speed.append(response['wind']['speed'])\n",
    "    \n",
    "#print(f\"latitude info: {lat}\")\n",
    "#print(f\"temperature info: {max_temp}\")"
   ]
  },
  {
   "cell_type": "code",
   "execution_count": null,
   "metadata": {
    "scrolled": false
   },
   "outputs": [],
   "source": [
    "#test 3 3 3 - this works so don't delete this page until next cell is working - 3/13/2019 - needs tested -\n",
    "url = \"http://api.openweathermap.org/data/2.5/weather?\"\n",
    "\n",
    "api_cnt = 1 # counter to count the number of calls to API\n",
    "#no_data = 0 # error count to record how many cities the API responds back with no data.\n",
    "group = 0 # counter to count the number of call sets\n",
    "index = 0 # index for the data frame WeatherPy data frame\n",
    "\n",
    "#Get current time - do we need this????\n",
    "time0 = time.time()\n",
    "\n",
    "print(f'Beginning Data Retrieval')\n",
    "print(f'........................')\n",
    "\n",
    "for city in cities:\n",
    "    try:\n",
    "        #city1 = city.replace(\" \", \"%20\") # remove space in city name so the URL retrieved is not broken????? - needed?\n",
    "\n",
    "        print(f'Processing Record {api_cnt} of Set {group} | {city}')\n",
    "        #print(f'{url}{city}&units=imperial&APPID={weather_api_key}')\n",
    "        response = requests.get(city, **settings)\n",
    "        \n",
    "        results = response['info'].json()\n",
    "        \n",
    "        wdata_df.loc[index, \"City\"] = info[0][\"name\"]\n",
    "        wdata_df.loc[index, \"Country\"] = info[0][\"sys.country\"]\n",
    "        wdata_df.loc[index, \"Lat\"] = info[0][\"coord.lat\"]\n",
    "        wdata_df.loc[index, \"Lng\"] = info[0][\"coord.lon\"]       \n",
    "        wdata_df.loc[index, \"Date\"] = info[0][\"dt\"]\n",
    "        wdata_df.loc[index, \"Max Temp\"] = info[0][\"main.temp_max\"]\n",
    "        wdata_df.loc[index, \"Humidity\"] = info[0][\"main.humidity\"]\n",
    "        wdata_df.loc[index, \"Cloudiness\"] = info[0][\"clouds.all\"]\n",
    "        wdata_df.loc[index, \"Wind Speed\"] = info[0][\"wind.speed\"]\n",
    "     \n",
    "        index = index +1\n",
    "    except Exception as err:\n",
    "        print(err)\n",
    "#       no_data = no_data+1\n",
    "    api_cnt = api_cnt +1\n",
    "    if api_cnt == 55: # loop to limit 55 API calls per minute. The OpenWeatherMap API limit is 60 calls/min\n",
    "        time1=time.time()\n",
    "        api_cnt = 1\n",
    "        group = group+1\n",
    "        time.sleep(60-(time1-time0))\n",
    "        time0=time.time()\n",
    "        \n",
    "print(\"Data Retreval Complete\")\n",
    "#print(f'Could not get data for {no_data} cities')"
   ]
  },
  {
   "cell_type": "code",
   "execution_count": null,
   "metadata": {},
   "outputs": [],
   "source": [
    "# test 3 3 3 - 3/13/2019\n",
    "wdata_df.head()"
   ]
  },
  {
   "cell_type": "code",
   "execution_count": null,
   "metadata": {
    "scrolled": true
   },
   "outputs": [],
   "source": [
    "#display data types - 3/13/2019\n",
    "wdata_df.info()"
   ]
  },
  {
   "cell_type": "code",
   "execution_count": null,
   "metadata": {},
   "outputs": [],
   "source": [
    "#determine data type and convert where necessary to run regression - 3/13/2019\n",
    "#converet non-null objects to int or float\n",
    "\n",
    "wdata_df['Lat'] = wdata_df['Lat'].astype(float)\n",
    "wdata_df['Lng'] = wdata_df['Lng'].astype(float)\n",
    "wdata_df['Max Temp'] = wdata_df['Max Temp'].astype(float)\n",
    "wdata_df['Humidity'] = wdata_df['Humidity'].astype(int)\n",
    "wdata_df['Cloudiness'] = wdata_df['Cloudiness'].astype(int)\n",
    "wdata_df['Wind Speed'] = wdata_df['Wind Speed'].astype(float)\n",
    "\n",
    "#display data types to verify change\n",
    "wdata_df.info()"
   ]
  },
  {
   "cell_type": "markdown",
   "metadata": {},
   "source": [
    "### Convert Raw Data to DataFrame\n",
    "* Export the city data into a .csv.\n",
    "* Display the DataFrame"
   ]
  },
  {
   "cell_type": "code",
   "execution_count": null,
   "metadata": {},
   "outputs": [],
   "source": [
    "#test 3 3 3 - 3/13/2019\n",
    "#specify the file to write to file - - - -  - - - - - - - -\n",
    "\n",
    "# save to csv file\n",
    "wdata_df.to_csv(\"wdata.csv\", encoding='utf-8', index=False)\n",
    "\n",
    "# Display the city weather data frame\n",
    "wdata_df.head()"
   ]
  },
  {
   "cell_type": "markdown",
   "metadata": {},
   "source": [
    "### Plotting the Data\n",
    "* Use proper labeling of the plots using plot titles (including date of analysis) and axes labels.\n",
    "* Save the plotted figures as .pngs."
   ]
  },
  {
   "cell_type": "markdown",
   "metadata": {},
   "source": [
    "#### Latitude vs. Temperature Plot"
   ]
  },
  {
   "cell_type": "code",
   "execution_count": null,
   "metadata": {
    "scrolled": false
   },
   "outputs": [],
   "source": [
    "#plot lat vs max temp - 3/13/2019\n",
    "plt.scatter(wdata_df.iloc[:,2], wdata_df.iloc[:,5], marker = 'o', facecolors = 'yellow', edgecolors = 'black')\n",
    "plt.xlabel(\"Latitude\")\n",
    "plt.ylabel(\"Maximum Temperature\")\n",
    "plt.title(\"Latitude versus Maximum Temperature\")\n",
    "plt.grid()"
   ]
  },
  {
   "cell_type": "markdown",
   "metadata": {},
   "source": [
    "#### Latitude vs. Cloudiness Plot"
   ]
  },
  {
   "cell_type": "code",
   "execution_count": null,
   "metadata": {},
   "outputs": [],
   "source": [
    "#plot lat vs cloudiness - 3/13/2019\n",
    "plt.scatter(wdata_df.iloc[:,2], wdata_df.iloc[:,7], marker = 'o', facecolors = 'blue', edgecolors = 'black')\n",
    "plt.xlabel(\"Latitude\")\n",
    "plt.ylabel(\"Cloudiness\")\n",
    "plt.title(\"Latitude versus Cloudiness\")\n",
    "plt.grid()"
   ]
  },
  {
   "cell_type": "markdown",
   "metadata": {},
   "source": [
    "#### Latitude vs. Wind Speed Plot"
   ]
  },
  {
   "cell_type": "code",
   "execution_count": null,
   "metadata": {},
   "outputs": [],
   "source": [
    "#plot lat vs cloudiness - 3/13/2019\n",
    "plt.scatter(wdata_df.iloc[:,2], wdata_df.iloc[:,8], marker = 'o', facecolors = 'green', edgecolors = 'black')\n",
    "plt.xlabel(\"Latitude\")\n",
    "plt.ylabel(\"Wind Speed\")\n",
    "plt.title(\"Latitude versus Wind Speed\")\n",
    "plt.grid()"
   ]
  },
  {
   "cell_type": "markdown",
   "metadata": {},
   "source": [
    "## Linear Regression"
   ]
  },
  {
   "cell_type": "code",
   "execution_count": null,
   "metadata": {},
   "outputs": [],
   "source": [
    "# OPTIONAL: Create a function to create Linear Regression plots"
   ]
  },
  {
   "cell_type": "code",
   "execution_count": null,
   "metadata": {
    "scrolled": true
   },
   "outputs": [],
   "source": [
    "# Create Northern and Southern Hemisphere DataFrames - 3/13/2019\n",
    "# Note I included the equator (where lat = 0) as part of the southern hemisphere\n",
    "northern = wdata_df.loc[(wdata_df[\"Lat\"] > 0), :]\n",
    "nwdata_df = pd.DataFrame(northern)\n",
    "southern = wdata_df.loc[(wdata_df[\"Lat\"] <= 0), :]\n",
    "swdata_df = pd.DataFrame(southern)\n",
    "swdata_df.tail()"
   ]
  },
  {
   "cell_type": "markdown",
   "metadata": {},
   "source": [
    "####  Northern Hemisphere - Max Temp vs. Latitude Linear Regression"
   ]
  },
  {
   "cell_type": "code",
   "execution_count": null,
   "metadata": {},
   "outputs": [],
   "source": [
    "#plot northern hemisphere lat vs max temp - - - - 3/13/2019\n",
    "x_values = nwdata_df.iloc[:,2]\n",
    "y_values = nwdata_df.iloc[:,5]\n",
    "slope, intercept, r_value, p_value, std_err = st.linregress(x_values, y_values)\n",
    "\n",
    "regress_values = x_values * slope + intercept\n",
    "line_eq = \"y = \" + str(round(slope,2)) + \"x + \" + str(round(intercept,2))\n",
    "plt.scatter(x_values, y_values)\n",
    "plt.plot(x_values, regress_values, \"r-\")\n",
    "plt.annotate(line_eq, (0,0), fontsize=15, color=\"red\")\n",
    "\n",
    "plt.xlabel(\"Latitude\")\n",
    "plt.ylabel(\"Maximum Temperature in Degrees Fahrenheit\")\n",
    "plt.title(\"Northern Hemisphere Latitude versus Maximum Temperature\")\n",
    "print(f\"The r-squared is: {r_value}\")\n",
    "plt.grid()"
   ]
  },
  {
   "cell_type": "markdown",
   "metadata": {},
   "source": [
    "####  Southern Hemisphere - Max Temp vs. Latitude Linear Regression"
   ]
  },
  {
   "cell_type": "code",
   "execution_count": null,
   "metadata": {},
   "outputs": [],
   "source": [
    "#plot southern hemisphere lat vs max temp - - - - 3/13/2019\n",
    "x_values = swdata_df.iloc[:,2]\n",
    "y_values = swdata_df.iloc[:,5]\n",
    "slope, intercept, r_value, p_value, std_err = st.linregress(x_values, y_values)\n",
    "\n",
    "regress_values = x_values * slope + intercept\n",
    "line_eq = \"y = \" + str(round(slope,2)) + \"x + \" + str(round(intercept,2))\n",
    "plt.scatter(x_values, y_values)\n",
    "plt.plot(x_values, regress_values, \"r-\")\n",
    "plt.annotate(line_eq, (-30,55), fontsize=15, color=\"red\")\n",
    "\n",
    "plt.xlabel(\"Latitude\")\n",
    "plt.ylabel(\"Maximum Temperature in Degrees Fahrenheit\")\n",
    "plt.title(\"Southern Hemisphere Latitude versus Maximum Temperature\")\n",
    "print(f\"The r-squared is: {r_value}\")\n",
    "plt.grid()"
   ]
  },
  {
   "cell_type": "markdown",
   "metadata": {},
   "source": [
    "####  Northern Hemisphere - Humidity (%) vs. Latitude Linear Regression"
   ]
  },
  {
   "cell_type": "code",
   "execution_count": null,
   "metadata": {},
   "outputs": [],
   "source": [
    "#plot northern hemisphere lat vs humidity - - - - 3/13/2019\n",
    "x_values = nwdata_df.iloc[:,2]\n",
    "y_values = nwdata_df.iloc[:,6]\n",
    "slope, intercept, r_value, p_value, std_err = st.linregress(x_values, y_values)\n",
    "\n",
    "regress_values = x_values * slope + intercept\n",
    "line_eq = \"y = \" + str(round(slope,2)) + \"x + \" + str(round(intercept,2))\n",
    "plt.scatter(x_values, y_values)\n",
    "plt.plot(x_values, regress_values, \"r-\")\n",
    "plt.annotate(line_eq, (40,20), fontsize=15, color=\"red\")\n",
    "\n",
    "plt.xlabel(\"Latitude\")\n",
    "plt.ylabel(\"Humidity\")\n",
    "plt.title(\"Northern Hemisphere Latitude versus Humidity\")\n",
    "print(f\"The r-squared is: {r_value}\")\n",
    "plt.grid()"
   ]
  },
  {
   "cell_type": "markdown",
   "metadata": {},
   "source": [
    "####  Southern Hemisphere - Humidity (%) vs. Latitude Linear Regression"
   ]
  },
  {
   "cell_type": "code",
   "execution_count": null,
   "metadata": {},
   "outputs": [],
   "source": [
    "#plot southern hemisphere lat vs humidity - - - - 3/13/2019\n",
    "x_values = swdata_df.iloc[:,2]\n",
    "y_values = swdata_df.iloc[:,6]\n",
    "slope, intercept, r_value, p_value, std_err = st.linregress(x_values, y_values)\n",
    "\n",
    "regress_values = x_values * slope + intercept\n",
    "line_eq = \"y = \" + str(round(slope,2)) + \"x + \" + str(round(intercept,2))\n",
    "plt.scatter(x_values, y_values)\n",
    "plt.plot(x_values, regress_values, \"r-\")\n",
    "plt.annotate(line_eq, (-55,20), fontsize=15, color=\"red\")\n",
    "\n",
    "plt.xlabel(\"Latitude\")\n",
    "plt.ylabel(\"Humidity\")\n",
    "plt.title(\"Southern Hemisphere Latitude versus Humidity\")\n",
    "print(f\"The r-squared is: {r_value}\")\n",
    "plt.grid()"
   ]
  },
  {
   "cell_type": "markdown",
   "metadata": {},
   "source": [
    "####  Northern Hemisphere - Cloudiness (%) vs. Latitude Linear Regression"
   ]
  },
  {
   "cell_type": "code",
   "execution_count": null,
   "metadata": {},
   "outputs": [],
   "source": [
    "#plot northern hemisphere lat vs cloudiness - - - - 3/13/2019\n",
    "x_values = nwdata_df.iloc[:,2]\n",
    "y_values = nwdata_df.iloc[:,7]\n",
    "slope, intercept, r_value, p_value, std_err = st.linregress(x_values, y_values)\n",
    "\n",
    "regress_values = x_values * slope + intercept\n",
    "line_eq = \"y = \" + str(round(slope,2)) + \"x + \" + str(round(intercept,2))\n",
    "plt.scatter(x_values, y_values)\n",
    "plt.plot(x_values, regress_values, \"r-\")\n",
    "plt.annotate(line_eq, (45,30), fontsize=15, color=\"red\")\n",
    "\n",
    "plt.xlabel(\"Latitude\")\n",
    "plt.ylabel(\"Cloudiness\")\n",
    "plt.title(\"Northern Hemisphere Latitude versus Cloudiness\")\n",
    "print(f\"The r-squared is: {r_value}\")\n",
    "plt.grid()"
   ]
  },
  {
   "cell_type": "markdown",
   "metadata": {},
   "source": [
    "####  Southern Hemisphere - Cloudiness (%) vs. Latitude Linear Regression"
   ]
  },
  {
   "cell_type": "code",
   "execution_count": null,
   "metadata": {},
   "outputs": [],
   "source": [
    "#plot southern hemisphere lat vs humidity - - - - 3/13/2019\n",
    "x_values = swdata_df.iloc[:,2]\n",
    "y_values = swdata_df.iloc[:,7]\n",
    "slope, intercept, r_value, p_value, std_err = st.linregress(x_values, y_values)\n",
    "\n",
    "regress_values = x_values * slope + intercept\n",
    "line_eq = \"y = \" + str(round(slope,2)) + \"x + \" + str(round(intercept,2))\n",
    "plt.scatter(x_values, y_values)\n",
    "plt.plot(x_values, regress_values, \"r-\")\n",
    "plt.annotate(line_eq, (-57,13), fontsize=15, color=\"red\")\n",
    "\n",
    "plt.xlabel(\"Latitude\")\n",
    "plt.ylabel(\"Cloudiness\")\n",
    "plt.title(\"Southern Hemisphere Latitude versus Cloudiness\")\n",
    "print(f\"The r-squared is: {r_value}\")\n",
    "plt.grid()"
   ]
  },
  {
   "cell_type": "markdown",
   "metadata": {},
   "source": [
    "####  Northern Hemisphere - Wind Speed (mph) vs. Latitude Linear Regression"
   ]
  },
  {
   "cell_type": "code",
   "execution_count": null,
   "metadata": {},
   "outputs": [],
   "source": [
    "#plot northern hemisphere lat vs wind speed - - - - 3/13/2019\n",
    "x_values = nwdata_df.iloc[:,2]\n",
    "y_values = nwdata_df.iloc[:,8]\n",
    "slope, intercept, r_value, p_value, std_err = st.linregress(x_values, y_values)\n",
    "\n",
    "regress_values = x_values * slope + intercept\n",
    "line_eq = \"y = \" + str(round(slope,2)) + \"x + \" + str(round(intercept,2))\n",
    "plt.scatter(x_values, y_values)\n",
    "plt.plot(x_values, regress_values, \"r-\")\n",
    "plt.annotate(line_eq, (0,40), fontsize=15, color=\"red\")\n",
    "\n",
    "plt.xlabel(\"Latitude\")\n",
    "plt.ylabel(\"Wind Speed\")\n",
    "plt.title(\"Northern Hemisphere Latitude versus Wind Speed\")\n",
    "print(f\"The r-squared is: {r_value}\")\n",
    "plt.grid()"
   ]
  },
  {
   "cell_type": "markdown",
   "metadata": {},
   "source": [
    "####  Southern Hemisphere - Wind Speed (mph) vs. Latitude Linear Regression"
   ]
  },
  {
   "cell_type": "code",
   "execution_count": null,
   "metadata": {},
   "outputs": [],
   "source": [
    "#plot southern hemisphere lat vs wind speed - - - - 3/13/2019\n",
    "x_values = swdata_df.iloc[:,2]\n",
    "y_values = swdata_df.iloc[:,8]\n",
    "slope, intercept, r_value, p_value, std_err = st.linregress(x_values, y_values)\n",
    "\n",
    "regress_values = x_values * slope + intercept\n",
    "line_eq = \"y = \" + str(round(slope,2)) + \"x + \" + str(round(intercept,2))\n",
    "plt.scatter(x_values, y_values)\n",
    "plt.plot(x_values, regress_values, \"r-\")\n",
    "plt.annotate(line_eq, (-55,20), fontsize=15, color=\"red\")\n",
    "\n",
    "plt.xlabel(\"Latitude\")\n",
    "plt.ylabel(\"Wind Speed\")\n",
    "plt.title(\"Southern Hemisphere Latitude versus Wind Speed\")\n",
    "print(f\"The r-squared is: {r_value}\")\n",
    "plt.grid()"
   ]
  },
  {
   "cell_type": "code",
   "execution_count": null,
   "metadata": {},
   "outputs": [],
   "source": []
  }
 ],
 "metadata": {
  "anaconda-cloud": {},
  "kernel_info": {
   "name": "python3"
  },
  "kernelspec": {
   "display_name": "Python 3.7.4 64-bit ('base': conda)",
   "language": "python",
   "name": "python37464bitbasecondac6f1fed7da40427ba8d315f08c07b158"
  },
  "language_info": {
   "codemirror_mode": {
    "name": "ipython",
    "version": 3
   },
   "file_extension": ".py",
   "mimetype": "text/x-python",
   "name": "python",
   "nbconvert_exporter": "python",
   "pygments_lexer": "ipython3",
   "version": "3.7.4"
  },
  "latex_envs": {
   "LaTeX_envs_menu_present": true,
   "autoclose": false,
   "autocomplete": true,
   "bibliofile": "biblio.bib",
   "cite_by": "apalike",
   "current_citInitial": 1,
   "eqLabelWithNumbers": true,
   "eqNumInitial": 1,
   "hotkeys": {
    "equation": "Ctrl-E",
    "itemize": "Ctrl-I"
   },
   "labels_anchors": false,
   "latex_user_defs": false,
   "report_style_numbering": false,
   "user_envs_cfg": false
  },
  "nteract": {
   "version": "0.12.3"
  }
 },
 "nbformat": 4,
 "nbformat_minor": 2
}
